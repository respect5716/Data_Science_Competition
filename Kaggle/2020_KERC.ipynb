{
  "nbformat": 4,
  "nbformat_minor": 0,
  "metadata": {
    "colab": {
      "name": "01_submit",
      "provenance": [],
      "collapsed_sections": [
        "OZOJte6rmVLb"
      ]
    },
    "kernelspec": {
      "name": "python3",
      "display_name": "Python 3"
    },
    "accelerator": "GPU"
  },
  "cells": [
    {
      "cell_type": "markdown",
      "metadata": {
        "id": "Pl6R_RdFlaWF"
      },
      "source": [
        "# 2020 KERC"
      ]
    },
    {
      "cell_type": "markdown",
      "metadata": {
        "id": "Nn6_Wwn_ltRi"
      },
      "source": [
        "## 0. Info\n",
        "* Type : Video Regression\n",
        "* URL : https://www.kaggle.com/c/2020kerc\n",
        "* Score\n",
        "    * Train : 0.175\n",
        "    * Val : 1.092\n",
        "    * Test : 0.933"
      ]
    },
    {
      "cell_type": "markdown",
      "metadata": {
        "id": "98YmkVCilujc"
      },
      "source": [
        "## 1. Setting"
      ]
    },
    {
      "cell_type": "code",
      "metadata": {
        "id": "4_S8IKPKl_4E"
      },
      "source": [
        "!pip install -q moviepy\n",
        "!pip install -q face_recognition"
      ],
      "execution_count": null,
      "outputs": []
    },
    {
      "cell_type": "code",
      "metadata": {
        "id": "S-ikcTPPmHrk"
      },
      "source": [
        "import os\n",
        "from tqdm import tqdm\n",
        "from glob import glob\n",
        "\n",
        "import pandas as pd\n",
        "import numpy as np\n",
        "import matplotlib.pyplot as plt\n",
        "import seaborn as sns\n",
        "\n",
        "import cv2\n",
        "import librosa\n",
        "from PIL import Image\n",
        "import face_recognition\n",
        "import moviepy.editor as mp\n",
        "\n",
        "import tensorflow as tf\n",
        "import tensorflow_addons as tfa\n",
        "\n",
        "import albumentations as A\n",
        "\n",
        "import warnings\n",
        "warnings.filterwarnings(\"ignore\")"
      ],
      "execution_count": 3,
      "outputs": []
    },
    {
      "cell_type": "code",
      "metadata": {
        "id": "XToBxAkvmI60"
      },
      "source": [
        "CONFIG = {\n",
        "    'input_shape' : (128, 128, 3),\n",
        "    'batch_size' : 32,\n",
        "    'epoch_size' : 100,\n",
        "    'base_dir' : 'drive/Shared drives/Yoon/Project/Doing/Korean Sentiment Recognition'\n",
        "    # 'base_dir' : 'drive/Shared drives/Yoon/Project/Doing/Data Science Competition/Kaggle/2020 KERC'\n",
        "}"
      ],
      "execution_count": 17,
      "outputs": []
    },
    {
      "cell_type": "markdown",
      "metadata": {
        "id": "0JlP9ldnmJ7N"
      },
      "source": [
        "## 2. Data"
      ]
    },
    {
      "cell_type": "markdown",
      "metadata": {
        "id": "OZOJte6rmVLb"
      },
      "source": [
        "### 변환"
      ]
    },
    {
      "cell_type": "code",
      "metadata": {
        "id": "aQTLHJ5cmLpz"
      },
      "source": [
        "def mp4_to_jpg(mp4, video_dir, image_dir):\n",
        "    \"\"\"mp4 파일을 jpg로 변환\n",
        "\n",
        "    Parameters:\n",
        "    mp4 (str) : mp4 파일 경로 (예 : '0403.mp4')\n",
        "    video_dir (str) : mp4 디렉토리 경로 (예 : 'data/Train')\n",
        "    image_dir (str) : jpg 디렉토리 경로 (예 : 'data/TrainImage)\n",
        "\n",
        "    Returns:\n",
        "    None\n",
        "    \"\"\"\n",
        "\n",
        "    video_num = mp4.split('.')[0][-4:]\n",
        "    save_dir = os.path.join(image_dir, video_num)\n",
        "    if not os.path.isdir(save_dir):\n",
        "        os.makedirs(save_dir)\n",
        "    \n",
        "    cap = cv2.VideoCapture(os.path.join(video_dir, mp4))\n",
        "    idx = 1\n",
        "    while True:\n",
        "        ret, frame = cap.read()\n",
        "        if ret:\n",
        "            cv2.imwrite(os.path.join(save_dir, f'{idx}.jpg'), frame)\n",
        "            idx += 1\n",
        "        else:\n",
        "            break\n",
        "\n",
        "\n",
        "def mp4_to_wav(mp4_dir, wav_dir):\n",
        "    if not os.path.isdir(wav_dir):\n",
        "        os.makedirs(wav_dir)\n",
        "        \n",
        "    for v in tqdm(os.listdir(mp4_dir)):\n",
        "        v_name = v.split('.')[0]\n",
        "        video = mp.VideoFileClip(os.path.join(mp4_dir, v))\n",
        "        video.audio.write_audiofile(os.path.join(wav_dir, f'{v_name}.wav'), progress_bar=False, verbose=False)\n",
        "\n",
        "\n",
        "def wav_to_mel(wav_dir, npy_dir):\n",
        "    if not os.path.isdir(npy_dir):\n",
        "        os.makedirs(npy_dir)\n",
        "\n",
        "    for w in tqdm(os.listdir(wav_dir)):\n",
        "        w_name = w.split('.')[0]\n",
        "        aud, sr = librosa.load(os.path.join(wav_dir, w))\n",
        "        mel = librosa.feature.melspectrogram(aud, sr=sr, hop_length=512)         \n",
        "        np.save(os.path.join(npy_dir, w_name + '.npy'), mel)\n",
        "\n",
        "\n",
        "def wav_to_mfcc(wav_dir, npy_dir):\n",
        "    if not os.path.isdir(npy_dir):\n",
        "        os.makedirs(npy_dir)\n",
        "\n",
        "    for w in tqdm(os.listdir(wav_dir)):\n",
        "        w_name = w.split('.')[0]\n",
        "        aud, sr = librosa.load(os.path.join(wav_dir, w))\n",
        "        mel = librosa.feature.mfcc(aud, sr=sr, n_mfcc=40)         \n",
        "        np.save(os.path.join(npy_dir, w_name + '.npy'), mel)\n",
        "\n",
        "\n",
        "def img_to_face(img_dir, face_dir):\n",
        "    img_path = glob(img_dir + '/*/*.jpg')\n",
        "    face_path = [i.replace(img_dir, face_dir) for i in img_path]\n",
        "        \n",
        "    for idx in tqdm(range(len(img_path))):\n",
        "        i, f = img_path[idx], face_path[idx]\n",
        "        dirname = os.path.dirname(f)\n",
        "        if not os.path.isdir(dirname):\n",
        "            os.makedirs(dirname)\n",
        "\n",
        "        img = face_recognition.load_image_file(i)\n",
        "        loc = face_recognition.face_locations(img, model='cnn')\n",
        "        if len(loc) > 0:\n",
        "            top, right, bottom, left = loc[0]\n",
        "            face = img[top:bottom, left:right]\n",
        "            Image.fromarray(face).save(f)"
      ],
      "execution_count": null,
      "outputs": []
    },
    {
      "cell_type": "markdown",
      "metadata": {
        "id": "pNffYQhKmWZg"
      },
      "source": [
        "### Dataloader"
      ]
    },
    {
      "cell_type": "code",
      "metadata": {
        "id": "HLDnFy2amX28"
      },
      "source": [
        "class TrainDataloader(tf.keras.utils.Sequence):\n",
        "    def __init__(self, data):\n",
        "        self.data = data\n",
        "        self.transform = A.Compose([\n",
        "            A.ShiftScaleRotate(p=0.5),\n",
        "        ])\n",
        "\n",
        "        self.on_epoch_end()\n",
        "    \n",
        "    def __len__(self):\n",
        "        return np.ceil(len(self.data) / CONFIG['batch_size']).astype(np.int32)\n",
        "\n",
        "    def on_epoch_end(self):\n",
        "        self.indices = np.random.permutation(len(self.data))\n",
        "    \n",
        "    def __getitem__(self, idx):\n",
        "        batch_idx = self.indices[CONFIG['batch_size']*idx : CONFIG['batch_size']*(idx+1)]\n",
        "        batch_data = self.data.iloc[batch_idx]\n",
        "        batch_y = batch_data[['Valence', 'Arousal', 'Stress1', 'Stress2']].values.astype(np.float32)\n",
        "\n",
        "        batch_x = [load_train_data(i) for i in batch_data['face_name']]\n",
        "        batch_x = [self.transform(image=i)['image'] for i in batch_x]\n",
        "        batch_x = np.stack(batch_x).astype(np.float32) / 255.0\n",
        "        return batch_x, batch_y\n",
        "\n",
        "\n",
        "class TestDataloader(tf.keras.utils.Sequence):\n",
        "    def __init__(self, data):\n",
        "        self.data = data\n",
        "        self.on_epoch_end()\n",
        "    \n",
        "    def __len__(self):\n",
        "        return len(self.data)\n",
        "    \n",
        "    def on_epoch_end(self):\n",
        "        self.indices = np.arange(len(self.data))\n",
        "    \n",
        "    def __getitem__(self, idx):\n",
        "        data = self.data.iloc[idx]\n",
        "        x = load_test_data(data['face_name'])\n",
        "        x = np.stack(x).astype(np.float32) / 255.0\n",
        "        return x, None\n",
        "\n",
        "def load_train_data(path):\n",
        "    faces = os.listdir(path)\n",
        "    random_idx = np.random.randint(len(faces))\n",
        "    face = tf.keras.preprocessing.image.load_img(os.path.join(path, faces[random_idx]), grayscale=False, target_size=CONFIG['input_shape'])\n",
        "    face = tf.keras.preprocessing.image.img_to_array(face)\n",
        "    return face\n",
        "\n",
        "def load_test_data(path):\n",
        "    faces = os.listdir(path)\n",
        "    faces = [os.path.join(path, i) for i in faces]\n",
        "    faces = [tf.keras.preprocessing.image.load_img(i, grayscale=False, target_size=CONFIG['input_shape']) for i in faces]\n",
        "    faces = [tf.keras.preprocessing.image.img_to_array(i) for i in faces]\n",
        "    return faces\n",
        "\n",
        "def predict(model, dataloader):\n",
        "    pred = []\n",
        "    for x, y in dataloader:\n",
        "        _pred = model(x)\n",
        "        _pred = np.mean(_pred, axis=0)\n",
        "        pred.append(_pred)\n",
        "    pred = np.stack(pred)\n",
        "    pred[:, 2:] = np.mean(pred[:, 2:], axis=1)[:,None]\n",
        "    return pred"
      ],
      "execution_count": 18,
      "outputs": []
    },
    {
      "cell_type": "code",
      "metadata": {
        "id": "PiWiTjeemovv"
      },
      "source": [
        "data_path = os.path.join(CONFIG['base_dir'], 'data/train_face.zip')\n",
        "!unzip -q '{data_path}'\n",
        "\n",
        "data_path = os.path.join(CONFIG['base_dir'], 'data/val_face.zip')\n",
        "!unzip -q '{data_path}'\n",
        "\n",
        "data_path = os.path.join(CONFIG['base_dir'], 'data/test_face.zip')\n",
        "!unzip -q '{data_path}'"
      ],
      "execution_count": 7,
      "outputs": []
    },
    {
      "cell_type": "code",
      "metadata": {
        "id": "vUEARZtjm7Av",
        "outputId": "4bcb7b6a-1168-4459-ff1f-2d7942d24fa4",
        "colab": {
          "base_uri": "https://localhost:8080/",
          "height": 194
        }
      },
      "source": [
        "train_data = pd.read_csv(os.path.join(CONFIG['base_dir'], 'data/train_mean.csv'))\n",
        "train_data['Stress1'] = train_data['Stress']\n",
        "train_data['Stress2'] = train_data['Stress']\n",
        "train_data = train_data.drop('Stress', axis=1)\n",
        "train_data['face_name'] = train_data['video_name'].apply(lambda x : os.path.join('train_face', x.split('.')[0][-4:]))\n",
        "train_data = train_data.loc[train_data['face_name'].apply(lambda x : len(os.listdir(x))) > 0]\n",
        "train_data.head()"
      ],
      "execution_count": 19,
      "outputs": [
        {
          "output_type": "execute_result",
          "data": {
            "text/html": [
              "<div>\n",
              "<style scoped>\n",
              "    .dataframe tbody tr th:only-of-type {\n",
              "        vertical-align: middle;\n",
              "    }\n",
              "\n",
              "    .dataframe tbody tr th {\n",
              "        vertical-align: top;\n",
              "    }\n",
              "\n",
              "    .dataframe thead th {\n",
              "        text-align: right;\n",
              "    }\n",
              "</style>\n",
              "<table border=\"1\" class=\"dataframe\">\n",
              "  <thead>\n",
              "    <tr style=\"text-align: right;\">\n",
              "      <th></th>\n",
              "      <th>video_name</th>\n",
              "      <th>Valence</th>\n",
              "      <th>Arousal</th>\n",
              "      <th>Stress1</th>\n",
              "      <th>Stress2</th>\n",
              "      <th>face_name</th>\n",
              "    </tr>\n",
              "  </thead>\n",
              "  <tbody>\n",
              "    <tr>\n",
              "      <th>0</th>\n",
              "      <td>Train/0001.mp4</td>\n",
              "      <td>2.5</td>\n",
              "      <td>5.9</td>\n",
              "      <td>7.2</td>\n",
              "      <td>7.2</td>\n",
              "      <td>train_face/0001</td>\n",
              "    </tr>\n",
              "    <tr>\n",
              "      <th>1</th>\n",
              "      <td>Train/0002.mp4</td>\n",
              "      <td>3.9</td>\n",
              "      <td>5.0</td>\n",
              "      <td>5.6</td>\n",
              "      <td>5.6</td>\n",
              "      <td>train_face/0002</td>\n",
              "    </tr>\n",
              "    <tr>\n",
              "      <th>2</th>\n",
              "      <td>Train/0003.mp4</td>\n",
              "      <td>3.0</td>\n",
              "      <td>6.8</td>\n",
              "      <td>6.6</td>\n",
              "      <td>6.6</td>\n",
              "      <td>train_face/0003</td>\n",
              "    </tr>\n",
              "    <tr>\n",
              "      <th>3</th>\n",
              "      <td>Train/0004.mp4</td>\n",
              "      <td>4.0</td>\n",
              "      <td>4.5</td>\n",
              "      <td>5.6</td>\n",
              "      <td>5.6</td>\n",
              "      <td>train_face/0004</td>\n",
              "    </tr>\n",
              "    <tr>\n",
              "      <th>4</th>\n",
              "      <td>Train/0005.mp4</td>\n",
              "      <td>1.9</td>\n",
              "      <td>8.5</td>\n",
              "      <td>8.1</td>\n",
              "      <td>8.1</td>\n",
              "      <td>train_face/0005</td>\n",
              "    </tr>\n",
              "  </tbody>\n",
              "</table>\n",
              "</div>"
            ],
            "text/plain": [
              "       video_name  Valence  Arousal  Stress1  Stress2        face_name\n",
              "0  Train/0001.mp4      2.5      5.9      7.2      7.2  train_face/0001\n",
              "1  Train/0002.mp4      3.9      5.0      5.6      5.6  train_face/0002\n",
              "2  Train/0003.mp4      3.0      6.8      6.6      6.6  train_face/0003\n",
              "3  Train/0004.mp4      4.0      4.5      5.6      5.6  train_face/0004\n",
              "4  Train/0005.mp4      1.9      8.5      8.1      8.1  train_face/0005"
            ]
          },
          "metadata": {
            "tags": []
          },
          "execution_count": 19
        }
      ]
    },
    {
      "cell_type": "code",
      "metadata": {
        "id": "PnKwqLCRnBaW",
        "outputId": "c3343e9c-64c7-46c3-ec3b-ac2c4033b94b",
        "colab": {
          "base_uri": "https://localhost:8080/",
          "height": 194
        }
      },
      "source": [
        "val_data = pd.read_csv(os.path.join(CONFIG['base_dir'], 'data/val_mean.csv'))\n",
        "val_data['Stress1'] = val_data['Stress']\n",
        "val_data['Stress2'] = val_data['Stress']\n",
        "val_data = val_data.drop('Stress', axis=1)\n",
        "val_data['face_name'] = val_data['video_name'].apply(lambda x : os.path.join('val_face', x.split('.')[0][-4:]))\n",
        "val_data.head()"
      ],
      "execution_count": 20,
      "outputs": [
        {
          "output_type": "execute_result",
          "data": {
            "text/html": [
              "<div>\n",
              "<style scoped>\n",
              "    .dataframe tbody tr th:only-of-type {\n",
              "        vertical-align: middle;\n",
              "    }\n",
              "\n",
              "    .dataframe tbody tr th {\n",
              "        vertical-align: top;\n",
              "    }\n",
              "\n",
              "    .dataframe thead th {\n",
              "        text-align: right;\n",
              "    }\n",
              "</style>\n",
              "<table border=\"1\" class=\"dataframe\">\n",
              "  <thead>\n",
              "    <tr style=\"text-align: right;\">\n",
              "      <th></th>\n",
              "      <th>video_name</th>\n",
              "      <th>Valence</th>\n",
              "      <th>Arousal</th>\n",
              "      <th>Stress1</th>\n",
              "      <th>Stress2</th>\n",
              "      <th>face_name</th>\n",
              "    </tr>\n",
              "  </thead>\n",
              "  <tbody>\n",
              "    <tr>\n",
              "      <th>0</th>\n",
              "      <td>Val/0637.mp4</td>\n",
              "      <td>4.3</td>\n",
              "      <td>5.4</td>\n",
              "      <td>5.6</td>\n",
              "      <td>5.6</td>\n",
              "      <td>val_face/0637</td>\n",
              "    </tr>\n",
              "    <tr>\n",
              "      <th>1</th>\n",
              "      <td>Val/0638.mp4</td>\n",
              "      <td>3.3</td>\n",
              "      <td>3.7</td>\n",
              "      <td>6.3</td>\n",
              "      <td>6.3</td>\n",
              "      <td>val_face/0638</td>\n",
              "    </tr>\n",
              "    <tr>\n",
              "      <th>2</th>\n",
              "      <td>Val/0639.mp4</td>\n",
              "      <td>3.1</td>\n",
              "      <td>5.4</td>\n",
              "      <td>6.9</td>\n",
              "      <td>6.9</td>\n",
              "      <td>val_face/0639</td>\n",
              "    </tr>\n",
              "    <tr>\n",
              "      <th>3</th>\n",
              "      <td>Val/0640.mp4</td>\n",
              "      <td>2.5</td>\n",
              "      <td>5.8</td>\n",
              "      <td>7.2</td>\n",
              "      <td>7.2</td>\n",
              "      <td>val_face/0640</td>\n",
              "    </tr>\n",
              "    <tr>\n",
              "      <th>4</th>\n",
              "      <td>Val/0641.mp4</td>\n",
              "      <td>5.0</td>\n",
              "      <td>6.1</td>\n",
              "      <td>4.5</td>\n",
              "      <td>4.5</td>\n",
              "      <td>val_face/0641</td>\n",
              "    </tr>\n",
              "  </tbody>\n",
              "</table>\n",
              "</div>"
            ],
            "text/plain": [
              "     video_name  Valence  Arousal  Stress1  Stress2      face_name\n",
              "0  Val/0637.mp4      4.3      5.4      5.6      5.6  val_face/0637\n",
              "1  Val/0638.mp4      3.3      3.7      6.3      6.3  val_face/0638\n",
              "2  Val/0639.mp4      3.1      5.4      6.9      6.9  val_face/0639\n",
              "3  Val/0640.mp4      2.5      5.8      7.2      7.2  val_face/0640\n",
              "4  Val/0641.mp4      5.0      6.1      4.5      4.5  val_face/0641"
            ]
          },
          "metadata": {
            "tags": []
          },
          "execution_count": 20
        }
      ]
    },
    {
      "cell_type": "code",
      "metadata": {
        "id": "8OC97RCxnCUs",
        "outputId": "5e5f9b61-a19b-44ee-8815-c51a19f141c3",
        "colab": {
          "base_uri": "https://localhost:8080/"
        }
      },
      "source": [
        "train_loader = TrainDataloader(train_data)\n",
        "x, y = train_loader.__getitem__(0)\n",
        "x.shape, y.shape"
      ],
      "execution_count": 22,
      "outputs": [
        {
          "output_type": "execute_result",
          "data": {
            "text/plain": [
              "((32, 128, 128, 3), (32, 4))"
            ]
          },
          "metadata": {
            "tags": []
          },
          "execution_count": 22
        }
      ]
    },
    {
      "cell_type": "markdown",
      "metadata": {
        "id": "TzrNSusgnEnN"
      },
      "source": [
        "## 3. Model"
      ]
    },
    {
      "cell_type": "code",
      "metadata": {
        "id": "59DkY7K7nOjF"
      },
      "source": [
        "class OutputLayer(tf.keras.layers.Layer):\n",
        "    def __init__(self):\n",
        "        super(OutputLayer, self).__init__()\n",
        "        self.body = tf.keras.Sequential([\n",
        "            tf.keras.layers.Dense(4, activation='tanh'),\n",
        "            tf.keras.layers.Lambda(lambda x : (x + 1) * 4.5)\n",
        "        ])\n",
        "    def call(self, x):\n",
        "        return self.body(x)\n",
        "\n",
        "\n",
        "class Model(tf.keras.Model):\n",
        "    def __init__(self, k):\n",
        "        super(Model, self).__init__()\n",
        "        self.k = k\n",
        "        self.base = tf.keras.applications.VGG16(include_top=False, weights='imagenet', input_shape=CONFIG['input_shape'])\n",
        "        self.flatten = tf.keras.layers.Flatten( )\n",
        "        self.dropout = tf.keras.layers.Dropout(0.5)\n",
        "        self.output_layer = [OutputLayer() for _ in range(k)]\n",
        "\n",
        "    def call(self, x, training):\n",
        "        x = self.base(x)\n",
        "        x = self.flatten(x)\n",
        "        x = self.dropout(x)\n",
        "        x = [l(x) for l in self.output_layer]\n",
        "        x = tf.reduce_mean(x, axis=0)\n",
        "        return x"
      ],
      "execution_count": 23,
      "outputs": []
    },
    {
      "cell_type": "code",
      "metadata": {
        "id": "KZ_vhz9_nP4M"
      },
      "source": [
        "model = Model(k=5)\n",
        "model.compile(\n",
        "    loss = 'mae',\n",
        "    optimizer = tf.keras.optimizers.Adam(learning_rate=1e-4)\n",
        ")"
      ],
      "execution_count": 24,
      "outputs": []
    },
    {
      "cell_type": "markdown",
      "metadata": {
        "id": "KkeohW7-nRIM"
      },
      "source": [
        "## 4. Train"
      ]
    },
    {
      "cell_type": "code",
      "metadata": {
        "id": "ReTZQ6LxnSTs"
      },
      "source": [
        "class EvalCallbacks(tf.keras.callbacks.Callback):\n",
        "    def __init__(self):\n",
        "        target_columns = ['Valence', 'Arousal', 'Stress1', 'Stress2']\n",
        "        self.val_loader = TestDataloader(val_data)\n",
        "        self.val_true = val_data[target_columns].values\n",
        "        self.best_loss = 1e3\n",
        "\n",
        "    def on_epoch_end(self, epoch, logs=None):\n",
        "        if epoch % 5 == 0 or epoch == CONFIG['epoch_size']-1:\n",
        "            val_pred = predict(self.model, self.val_loader)\n",
        "            val_loss = tf.keras.losses.mse(self.val_true, val_pred).numpy()\n",
        "            val_loss = tf.reduce_mean(val_loss)\n",
        "            if val_loss < self.best_loss:\n",
        "                self.model.save_weights('model.h5')\n",
        "                self.best_loss = val_loss\n",
        "            print(f' - val loss: {val_loss:.4f}')"
      ],
      "execution_count": 25,
      "outputs": []
    },
    {
      "cell_type": "code",
      "metadata": {
        "id": "kAWEM1kpnTs8",
        "outputId": "aae7c3a6-8ed5-4746-dca4-d44e6842ccf4",
        "colab": {
          "base_uri": "https://localhost:8080/"
        }
      },
      "source": [
        "hist = model.fit(\n",
        "    train_loader,\n",
        "    epochs = CONFIG['epoch_size'],\n",
        "    callbacks = [EvalCallbacks()]\n",
        ")"
      ],
      "execution_count": 26,
      "outputs": [
        {
          "output_type": "stream",
          "text": [
            "Epoch 1/100\n",
            "20/20 [==============================] - ETA: 0s - loss: 1.4087 - val loss: 2.0914\n",
            "20/20 [==============================] - 39s 2s/step - loss: 1.4087\n",
            "Epoch 2/100\n",
            "20/20 [==============================] - 1s 73ms/step - loss: 1.2834\n",
            "Epoch 3/100\n",
            "20/20 [==============================] - 1s 72ms/step - loss: 1.2580\n",
            "Epoch 4/100\n",
            "20/20 [==============================] - 1s 73ms/step - loss: 1.2534\n",
            "Epoch 5/100\n",
            "20/20 [==============================] - 1s 74ms/step - loss: 1.2344\n",
            "Epoch 6/100\n",
            "20/20 [==============================] - ETA: 0s - loss: 1.2240 - val loss: 2.0810\n",
            "20/20 [==============================] - 39s 2s/step - loss: 1.2240\n",
            "Epoch 7/100\n",
            "20/20 [==============================] - 1s 72ms/step - loss: 1.2166\n",
            "Epoch 8/100\n",
            "20/20 [==============================] - 1s 71ms/step - loss: 1.2300\n",
            "Epoch 9/100\n",
            "20/20 [==============================] - 1s 70ms/step - loss: 1.2333\n",
            "Epoch 10/100\n",
            "20/20 [==============================] - 1s 72ms/step - loss: 1.1839\n",
            "Epoch 11/100\n",
            "20/20 [==============================] - ETA: 0s - loss: 1.1768 - val loss: 1.9859\n",
            "20/20 [==============================] - 39s 2s/step - loss: 1.1768\n",
            "Epoch 12/100\n",
            "20/20 [==============================] - 1s 71ms/step - loss: 1.1997\n",
            "Epoch 13/100\n",
            "20/20 [==============================] - 1s 71ms/step - loss: 1.1633\n",
            "Epoch 14/100\n",
            "20/20 [==============================] - 1s 71ms/step - loss: 1.1726\n",
            "Epoch 15/100\n",
            "20/20 [==============================] - 1s 72ms/step - loss: 1.1695\n",
            "Epoch 16/100\n",
            "20/20 [==============================] - ETA: 0s - loss: 1.1464 - val loss: 1.9206\n",
            "20/20 [==============================] - 38s 2s/step - loss: 1.1464\n",
            "Epoch 17/100\n",
            "20/20 [==============================] - 1s 74ms/step - loss: 1.1513\n",
            "Epoch 18/100\n",
            "20/20 [==============================] - 1s 72ms/step - loss: 1.1356\n",
            "Epoch 19/100\n",
            "20/20 [==============================] - 1s 71ms/step - loss: 1.1137\n",
            "Epoch 20/100\n",
            "20/20 [==============================] - 1s 71ms/step - loss: 1.1107\n",
            "Epoch 21/100\n",
            "20/20 [==============================] - ETA: 0s - loss: 1.0927 - val loss: 1.9704\n",
            "20/20 [==============================] - 39s 2s/step - loss: 1.0927\n",
            "Epoch 22/100\n",
            "20/20 [==============================] - 1s 73ms/step - loss: 1.1109\n",
            "Epoch 23/100\n",
            "20/20 [==============================] - 1s 72ms/step - loss: 1.0707\n",
            "Epoch 24/100\n",
            "20/20 [==============================] - 1s 72ms/step - loss: 1.0990\n",
            "Epoch 25/100\n",
            "20/20 [==============================] - 1s 72ms/step - loss: 1.1002\n",
            "Epoch 26/100\n",
            "20/20 [==============================] - ETA: 0s - loss: 1.0756 - val loss: 1.8378\n",
            "20/20 [==============================] - 39s 2s/step - loss: 1.0756\n",
            "Epoch 27/100\n",
            "20/20 [==============================] - 1s 73ms/step - loss: 1.0216\n",
            "Epoch 28/100\n",
            "20/20 [==============================] - 1s 70ms/step - loss: 1.0241\n",
            "Epoch 29/100\n",
            "20/20 [==============================] - 1s 72ms/step - loss: 1.1013\n",
            "Epoch 30/100\n",
            "20/20 [==============================] - 1s 71ms/step - loss: 1.0116\n",
            "Epoch 31/100\n",
            "20/20 [==============================] - ETA: 0s - loss: 0.9924 - val loss: 1.8081\n",
            "20/20 [==============================] - 38s 2s/step - loss: 0.9924\n",
            "Epoch 32/100\n",
            "20/20 [==============================] - 1s 72ms/step - loss: 0.9780\n",
            "Epoch 33/100\n",
            "20/20 [==============================] - 1s 70ms/step - loss: 0.9444\n",
            "Epoch 34/100\n",
            "20/20 [==============================] - 1s 72ms/step - loss: 0.9819\n",
            "Epoch 35/100\n",
            "20/20 [==============================] - 1s 71ms/step - loss: 0.9375\n",
            "Epoch 36/100\n",
            "20/20 [==============================] - ETA: 0s - loss: 0.8912 - val loss: 1.3993\n",
            "20/20 [==============================] - 39s 2s/step - loss: 0.8912\n",
            "Epoch 37/100\n",
            "20/20 [==============================] - 1s 75ms/step - loss: 0.9103\n",
            "Epoch 38/100\n",
            "20/20 [==============================] - 1s 73ms/step - loss: 0.9124\n",
            "Epoch 39/100\n",
            "20/20 [==============================] - 1s 72ms/step - loss: 0.9016\n",
            "Epoch 40/100\n",
            "20/20 [==============================] - 1s 74ms/step - loss: 0.8821\n",
            "Epoch 41/100\n",
            "20/20 [==============================] - ETA: 0s - loss: 0.8386 - val loss: 1.3104\n",
            "20/20 [==============================] - 40s 2s/step - loss: 0.8386\n",
            "Epoch 42/100\n",
            "20/20 [==============================] - 1s 73ms/step - loss: 0.8842\n",
            "Epoch 43/100\n",
            "20/20 [==============================] - 1s 71ms/step - loss: 0.8427\n",
            "Epoch 44/100\n",
            "20/20 [==============================] - 1s 72ms/step - loss: 0.8124\n",
            "Epoch 45/100\n",
            "20/20 [==============================] - 1s 71ms/step - loss: 0.7667\n",
            "Epoch 46/100\n",
            "20/20 [==============================] - ETA: 0s - loss: 0.7771 - val loss: 1.2552\n",
            "20/20 [==============================] - 39s 2s/step - loss: 0.7771\n",
            "Epoch 47/100\n",
            "20/20 [==============================] - 1s 74ms/step - loss: 0.7894\n",
            "Epoch 48/100\n",
            "20/20 [==============================] - 1s 74ms/step - loss: 0.7686\n",
            "Epoch 49/100\n",
            "20/20 [==============================] - 1s 73ms/step - loss: 0.7472\n",
            "Epoch 50/100\n",
            "20/20 [==============================] - 1s 72ms/step - loss: 0.7626\n",
            "Epoch 51/100\n",
            "20/20 [==============================] - ETA: 0s - loss: 0.7332 - val loss: 1.1787\n",
            "20/20 [==============================] - 39s 2s/step - loss: 0.7332\n",
            "Epoch 52/100\n",
            "20/20 [==============================] - 1s 71ms/step - loss: 0.7035\n",
            "Epoch 53/100\n",
            "20/20 [==============================] - 1s 71ms/step - loss: 0.7114\n",
            "Epoch 54/100\n",
            "20/20 [==============================] - 1s 70ms/step - loss: 0.7115\n",
            "Epoch 55/100\n",
            "20/20 [==============================] - 1s 71ms/step - loss: 0.6862\n",
            "Epoch 56/100\n",
            "20/20 [==============================] - ETA: 0s - loss: 0.6891 - val loss: 1.0731\n",
            "20/20 [==============================] - 39s 2s/step - loss: 0.6891\n",
            "Epoch 57/100\n",
            "20/20 [==============================] - 1s 71ms/step - loss: 0.6902\n",
            "Epoch 58/100\n",
            "20/20 [==============================] - 1s 72ms/step - loss: 0.6790\n",
            "Epoch 59/100\n",
            "20/20 [==============================] - 1s 72ms/step - loss: 0.7705\n",
            "Epoch 60/100\n",
            "20/20 [==============================] - 1s 71ms/step - loss: 0.7571\n",
            "Epoch 61/100\n",
            "20/20 [==============================] - ETA: 0s - loss: 0.6746 - val loss: 1.1652\n",
            "20/20 [==============================] - 38s 2s/step - loss: 0.6746\n",
            "Epoch 62/100\n",
            "20/20 [==============================] - 1s 72ms/step - loss: 0.6614\n",
            "Epoch 63/100\n",
            "20/20 [==============================] - 1s 71ms/step - loss: 0.6224\n",
            "Epoch 64/100\n",
            "20/20 [==============================] - 1s 71ms/step - loss: 0.6246\n",
            "Epoch 65/100\n",
            "20/20 [==============================] - 1s 71ms/step - loss: 0.6402\n",
            "Epoch 66/100\n",
            "20/20 [==============================] - ETA: 0s - loss: 0.6050 - val loss: 1.1394\n",
            "20/20 [==============================] - 39s 2s/step - loss: 0.6050\n",
            "Epoch 67/100\n",
            "20/20 [==============================] - 1s 70ms/step - loss: 0.6196\n",
            "Epoch 68/100\n",
            "20/20 [==============================] - 1s 70ms/step - loss: 0.6201\n",
            "Epoch 69/100\n",
            "20/20 [==============================] - 1s 73ms/step - loss: 0.6078\n",
            "Epoch 70/100\n",
            "20/20 [==============================] - 1s 70ms/step - loss: 0.5703\n",
            "Epoch 71/100\n",
            "20/20 [==============================] - ETA: 0s - loss: 0.5367 - val loss: 1.0703\n",
            "20/20 [==============================] - 38s 2s/step - loss: 0.5367\n",
            "Epoch 72/100\n",
            "20/20 [==============================] - 1s 72ms/step - loss: 0.5661\n",
            "Epoch 73/100\n",
            "20/20 [==============================] - 1s 72ms/step - loss: 0.6088\n",
            "Epoch 74/100\n",
            "20/20 [==============================] - 1s 69ms/step - loss: 0.6014\n",
            "Epoch 75/100\n",
            "20/20 [==============================] - 1s 72ms/step - loss: 0.5749\n",
            "Epoch 76/100\n",
            "20/20 [==============================] - ETA: 0s - loss: 0.5455 - val loss: 1.1937\n",
            "20/20 [==============================] - 39s 2s/step - loss: 0.5455\n",
            "Epoch 77/100\n",
            "20/20 [==============================] - 1s 69ms/step - loss: 0.5369\n",
            "Epoch 78/100\n",
            "20/20 [==============================] - 1s 70ms/step - loss: 0.5279\n",
            "Epoch 79/100\n",
            "20/20 [==============================] - 1s 69ms/step - loss: 0.5543\n",
            "Epoch 80/100\n",
            "20/20 [==============================] - 1s 69ms/step - loss: 0.5451\n",
            "Epoch 81/100\n",
            "20/20 [==============================] - ETA: 0s - loss: 0.5117 - val loss: 1.0931\n",
            "20/20 [==============================] - 38s 2s/step - loss: 0.5117\n",
            "Epoch 82/100\n",
            "20/20 [==============================] - 1s 70ms/step - loss: 0.5169\n",
            "Epoch 83/100\n",
            "20/20 [==============================] - 1s 70ms/step - loss: 0.5251\n",
            "Epoch 84/100\n",
            "20/20 [==============================] - 1s 72ms/step - loss: 0.5290\n",
            "Epoch 85/100\n",
            "20/20 [==============================] - 1s 71ms/step - loss: 0.5274\n",
            "Epoch 86/100\n",
            "20/20 [==============================] - ETA: 0s - loss: 0.5313 - val loss: 1.0959\n",
            "20/20 [==============================] - 38s 2s/step - loss: 0.5313\n",
            "Epoch 87/100\n",
            "20/20 [==============================] - 1s 71ms/step - loss: 0.5066\n",
            "Epoch 88/100\n",
            "20/20 [==============================] - 1s 71ms/step - loss: 0.5145\n",
            "Epoch 89/100\n",
            "20/20 [==============================] - 1s 69ms/step - loss: 0.4730\n",
            "Epoch 90/100\n",
            "20/20 [==============================] - 1s 70ms/step - loss: 0.5026\n",
            "Epoch 91/100\n",
            "20/20 [==============================] - ETA: 0s - loss: 0.4941 - val loss: 1.1942\n",
            "20/20 [==============================] - 38s 2s/step - loss: 0.4941\n",
            "Epoch 92/100\n",
            "20/20 [==============================] - 1s 70ms/step - loss: 0.5295\n",
            "Epoch 93/100\n",
            "20/20 [==============================] - 1s 70ms/step - loss: 0.5087\n",
            "Epoch 94/100\n",
            "20/20 [==============================] - 1s 69ms/step - loss: 0.4968\n",
            "Epoch 95/100\n",
            "20/20 [==============================] - 1s 70ms/step - loss: 0.4792\n",
            "Epoch 96/100\n",
            "20/20 [==============================] - ETA: 0s - loss: 0.4520 - val loss: 1.1333\n",
            "20/20 [==============================] - 38s 2s/step - loss: 0.4520\n",
            "Epoch 97/100\n",
            "20/20 [==============================] - 1s 72ms/step - loss: 0.4490\n",
            "Epoch 98/100\n",
            "20/20 [==============================] - 1s 70ms/step - loss: 0.4484\n",
            "Epoch 99/100\n",
            "20/20 [==============================] - 1s 71ms/step - loss: 0.4443\n",
            "Epoch 100/100\n",
            "20/20 [==============================] - ETA: 0s - loss: 0.4424 - val loss: 1.1042\n",
            "20/20 [==============================] - 38s 2s/step - loss: 0.4424\n"
          ],
          "name": "stdout"
        }
      ]
    },
    {
      "cell_type": "code",
      "metadata": {
        "id": "LsfZ9lc0nWGc",
        "outputId": "8970abb7-6411-4257-ea0f-3942b2d2cfde",
        "colab": {
          "base_uri": "https://localhost:8080/",
          "height": 281
        }
      },
      "source": [
        "plt.plot(hist.history['loss'])\n",
        "plt.title('Train Loss')\n",
        "plt.show()"
      ],
      "execution_count": 27,
      "outputs": [
        {
          "output_type": "display_data",
          "data": {
            "image/png": "[encoded data removed]",
            "text/plain": [
              "<Figure size 432x288 with 1 Axes>"
            ]
          },
          "metadata": {
            "tags": [],
            "needs_background": "light"
          }
        }
      ]
    },
    {
      "cell_type": "code",
      "metadata": {
        "id": "znzlo6TUnc9g",
        "outputId": "2ff35e89-fa41-4817-d719-b8086db30038",
        "colab": {
          "base_uri": "https://localhost:8080/",
          "height": 638
        }
      },
      "source": [
        "model.load_weights('model.h5')\n",
        "\n",
        "target_columns = ['Valence', 'Arousal', 'Stress1', 'Stress2']\n",
        "train_loader = TestDataloader(train_data)\n",
        "val_loader = TestDataloader(val_data)\n",
        "\n",
        "train_true = train_data[target_columns].values\n",
        "train_pred = predict(model, train_loader)\n",
        "train_loss = np.mean(tf.keras.losses.mse(train_true, train_pred).numpy())\n",
        "\n",
        "val_true = val_data[target_columns].values\n",
        "val_pred = predict(model, val_loader)\n",
        "val_loss = np.mean(tf.keras.losses.mse(val_true, val_pred).numpy())\n",
        "\n",
        "print(f'Train Loss : {train_loss:.3f} | Val Loss : {val_loss:.3f}')\n",
        "\n",
        "fig, ax = plt.subplots(2, 3, figsize=(15, 10))\n",
        "for i in range(3):\n",
        "    sns.scatterplot(train_true[:,i], train_pred[:,i], ax=ax[0, i])\n",
        "    ax[0, i].set_title(f'{target_columns[i]} (Train)')\n",
        "    ax[0, i].set_xlabel('True')\n",
        "    ax[0, i].set_ylabel('Pred')\n",
        "    ax[0, i].set_xticks([i for i in range(10)])\n",
        "    ax[0, i].set_yticks([i for i in range(10)])\n",
        "\n",
        "    sns.scatterplot(val_true[:,i], val_pred[:,i], ax=ax[1, i])\n",
        "    ax[1, i].set_title(f'{target_columns[i]} (Val)')\n",
        "    ax[1, i].set_xlabel('True')\n",
        "    ax[1, i].set_ylabel('Pred')\n",
        "    ax[1, i].set_xticks([i for i in range(10)])\n",
        "    ax[1, i].set_yticks([i for i in range(10)])\n",
        "\n",
        "plt.show()"
      ],
      "execution_count": 29,
      "outputs": [
        {
          "output_type": "stream",
          "text": [
            "Train Loss : 0.280 | Val Loss : 1.070\n"
          ],
          "name": "stdout"
        },
        {
          "output_type": "display_data",
          "data": {
            "image/png": "[encoded data removed]",
            "text/plain": [
              "<Figure size 1080x720 with 6 Axes>"
            ]
          },
          "metadata": {
            "tags": [],
            "needs_background": "light"
          }
        }
      ]
    },
    {
      "cell_type": "markdown",
      "metadata": {
        "id": "KJm7R-LYnaOF"
      },
      "source": [
        "## 5. Test"
      ]
    },
    {
      "cell_type": "code",
      "metadata": {
        "id": "GUZnRYjdnbqz",
        "outputId": "6d7d52b6-40bc-4f5a-ebd3-b9a4eb545604",
        "colab": {
          "base_uri": "https://localhost:8080/",
          "height": 194
        }
      },
      "source": [
        "test_data = pd.read_csv(os.path.join(CONFIG['base_dir'], 'data/sample_submission.csv'))\n",
        "test_data['face_name'] = test_data['video_name'].apply(lambda x : os.path.join('test_face', x.split('.')[0][-4:]))\n",
        "test_data.head()"
      ],
      "execution_count": 30,
      "outputs": [
        {
          "output_type": "execute_result",
          "data": {
            "text/html": [
              "<div>\n",
              "<style scoped>\n",
              "    .dataframe tbody tr th:only-of-type {\n",
              "        vertical-align: middle;\n",
              "    }\n",
              "\n",
              "    .dataframe tbody tr th {\n",
              "        vertical-align: top;\n",
              "    }\n",
              "\n",
              "    .dataframe thead th {\n",
              "        text-align: right;\n",
              "    }\n",
              "</style>\n",
              "<table border=\"1\" class=\"dataframe\">\n",
              "  <thead>\n",
              "    <tr style=\"text-align: right;\">\n",
              "      <th></th>\n",
              "      <th>video_name</th>\n",
              "      <th>Valence</th>\n",
              "      <th>Arousal</th>\n",
              "      <th>Stress1</th>\n",
              "      <th>Stress2</th>\n",
              "      <th>face_name</th>\n",
              "    </tr>\n",
              "  </thead>\n",
              "  <tbody>\n",
              "    <tr>\n",
              "      <th>0</th>\n",
              "      <td>001000.mp4</td>\n",
              "      <td>4.0</td>\n",
              "      <td>5.9</td>\n",
              "      <td>6.0</td>\n",
              "      <td>6.0</td>\n",
              "      <td>test_face/1000</td>\n",
              "    </tr>\n",
              "    <tr>\n",
              "      <th>1</th>\n",
              "      <td>001001.mp4</td>\n",
              "      <td>4.0</td>\n",
              "      <td>5.9</td>\n",
              "      <td>6.1</td>\n",
              "      <td>6.1</td>\n",
              "      <td>test_face/1001</td>\n",
              "    </tr>\n",
              "    <tr>\n",
              "      <th>2</th>\n",
              "      <td>001002.mp4</td>\n",
              "      <td>4.0</td>\n",
              "      <td>5.9</td>\n",
              "      <td>6.0</td>\n",
              "      <td>6.0</td>\n",
              "      <td>test_face/1002</td>\n",
              "    </tr>\n",
              "    <tr>\n",
              "      <th>3</th>\n",
              "      <td>001003.mp4</td>\n",
              "      <td>4.0</td>\n",
              "      <td>6.0</td>\n",
              "      <td>6.2</td>\n",
              "      <td>6.2</td>\n",
              "      <td>test_face/1003</td>\n",
              "    </tr>\n",
              "    <tr>\n",
              "      <th>4</th>\n",
              "      <td>001004.mp4</td>\n",
              "      <td>4.0</td>\n",
              "      <td>5.9</td>\n",
              "      <td>6.0</td>\n",
              "      <td>6.0</td>\n",
              "      <td>test_face/1004</td>\n",
              "    </tr>\n",
              "  </tbody>\n",
              "</table>\n",
              "</div>"
            ],
            "text/plain": [
              "   video_name  Valence  Arousal  Stress1  Stress2       face_name\n",
              "0  001000.mp4      4.0      5.9      6.0      6.0  test_face/1000\n",
              "1  001001.mp4      4.0      5.9      6.1      6.1  test_face/1001\n",
              "2  001002.mp4      4.0      5.9      6.0      6.0  test_face/1002\n",
              "3  001003.mp4      4.0      6.0      6.2      6.2  test_face/1003\n",
              "4  001004.mp4      4.0      5.9      6.0      6.0  test_face/1004"
            ]
          },
          "metadata": {
            "tags": []
          },
          "execution_count": 30
        }
      ]
    },
    {
      "cell_type": "code",
      "metadata": {
        "id": "BsJfJwk4nelU"
      },
      "source": [
        "test_loader = TestDataloader(test_data)\n",
        "test_pred = predict(model, test_loader)\n",
        "test_data[target_columns] = test_pred"
      ],
      "execution_count": 31,
      "outputs": []
    },
    {
      "cell_type": "code",
      "metadata": {
        "id": "GIZk8YpHnfV8",
        "outputId": "537916b2-3d58-4fee-a339-6f368fb3bde5",
        "colab": {
          "base_uri": "https://localhost:8080/",
          "height": 194
        }
      },
      "source": [
        "test_data = test_data.drop('face_name', axis=1)\n",
        "test_data.to_csv('submission.csv', index=False)\n",
        "test_data.head()"
      ],
      "execution_count": 33,
      "outputs": [
        {
          "output_type": "execute_result",
          "data": {
            "text/html": [
              "<div>\n",
              "<style scoped>\n",
              "    .dataframe tbody tr th:only-of-type {\n",
              "        vertical-align: middle;\n",
              "    }\n",
              "\n",
              "    .dataframe tbody tr th {\n",
              "        vertical-align: top;\n",
              "    }\n",
              "\n",
              "    .dataframe thead th {\n",
              "        text-align: right;\n",
              "    }\n",
              "</style>\n",
              "<table border=\"1\" class=\"dataframe\">\n",
              "  <thead>\n",
              "    <tr style=\"text-align: right;\">\n",
              "      <th></th>\n",
              "      <th>video_name</th>\n",
              "      <th>Valence</th>\n",
              "      <th>Arousal</th>\n",
              "      <th>Stress1</th>\n",
              "      <th>Stress2</th>\n",
              "      <th>face_name</th>\n",
              "    </tr>\n",
              "  </thead>\n",
              "  <tbody>\n",
              "    <tr>\n",
              "      <th>0</th>\n",
              "      <td>001000.mp4</td>\n",
              "      <td>3.901995</td>\n",
              "      <td>5.490708</td>\n",
              "      <td>5.927103</td>\n",
              "      <td>5.927103</td>\n",
              "      <td>test_face/1000</td>\n",
              "    </tr>\n",
              "    <tr>\n",
              "      <th>1</th>\n",
              "      <td>001001.mp4</td>\n",
              "      <td>3.989360</td>\n",
              "      <td>4.480676</td>\n",
              "      <td>5.679691</td>\n",
              "      <td>5.679691</td>\n",
              "      <td>test_face/1001</td>\n",
              "    </tr>\n",
              "    <tr>\n",
              "      <th>2</th>\n",
              "      <td>001002.mp4</td>\n",
              "      <td>3.378717</td>\n",
              "      <td>6.070635</td>\n",
              "      <td>6.698455</td>\n",
              "      <td>6.698455</td>\n",
              "      <td>test_face/1002</td>\n",
              "    </tr>\n",
              "    <tr>\n",
              "      <th>3</th>\n",
              "      <td>001003.mp4</td>\n",
              "      <td>3.495615</td>\n",
              "      <td>5.871037</td>\n",
              "      <td>6.571220</td>\n",
              "      <td>6.571220</td>\n",
              "      <td>test_face/1003</td>\n",
              "    </tr>\n",
              "    <tr>\n",
              "      <th>4</th>\n",
              "      <td>001004.mp4</td>\n",
              "      <td>4.361662</td>\n",
              "      <td>5.868893</td>\n",
              "      <td>5.112332</td>\n",
              "      <td>5.112332</td>\n",
              "      <td>test_face/1004</td>\n",
              "    </tr>\n",
              "  </tbody>\n",
              "</table>\n",
              "</div>"
            ],
            "text/plain": [
              "   video_name   Valence   Arousal   Stress1   Stress2       face_name\n",
              "0  001000.mp4  3.901995  5.490708  5.927103  5.927103  test_face/1000\n",
              "1  001001.mp4  3.989360  4.480676  5.679691  5.679691  test_face/1001\n",
              "2  001002.mp4  3.378717  6.070635  6.698455  6.698455  test_face/1002\n",
              "3  001003.mp4  3.495615  5.871037  6.571220  6.571220  test_face/1003\n",
              "4  001004.mp4  4.361662  5.868893  5.112332  5.112332  test_face/1004"
            ]
          },
          "metadata": {
            "tags": []
          },
          "execution_count": 33
        }
      ]
    },
    {
      "cell_type": "code",
      "metadata": {
        "id": "Wcas8tevnj-M"
      },
      "source": [
        ""
      ],
      "execution_count": null,
      "outputs": []
    }
  ]
}