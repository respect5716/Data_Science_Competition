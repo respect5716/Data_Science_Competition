{
  "nbformat": 4,
  "nbformat_minor": 0,
  "metadata": {
    "colab": {
      "name": "01_baseline",
      "provenance": [],
      "collapsed_sections": []
    },
    "kernelspec": {
      "name": "python3",
      "display_name": "Python 3"
    },
    "accelerator": "GPU"
  },
  "cells": [
    {
      "cell_type": "markdown",
      "metadata": {
        "id": "NNIKwz8AKFZb"
      },
      "source": [
        "# Facial Keypoints Detection"
      ]
    },
    {
      "cell_type": "markdown",
      "metadata": {
        "id": "AA18eFf2KfrJ"
      },
      "source": [
        "## 0. Info\n",
        "* Data Type : Image\n",
        "* Task Type : Regression\n",
        "* Competition Link : https://www.kaggle.com/c/facial-keypoints-detection\n",
        "* Reference\n",
        "  * https://www.kaggle.com/obione26/facial-keypoints-detection-keras-albumentations"
      ]
    },
    {
      "cell_type": "markdown",
      "metadata": {
        "id": "-o_ApVn1KgsH"
      },
      "source": [
        "## 1. Setting"
      ]
    },
    {
      "cell_type": "code",
      "metadata": {
        "id": "l6XUxQEZKv7P"
      },
      "source": [
        "import os\n",
        "import random\n",
        "\n",
        "import numpy as np\n",
        "import pandas as pd\n",
        "import matplotlib.pyplot as plt\n",
        "import seaborn as sns\n",
        "\n",
        "import tensorflow as tf\n",
        "import tensorflow_addons as tfa"
      ],
      "execution_count": null,
      "outputs": []
    },
    {
      "cell_type": "code",
      "metadata": {
        "id": "mzpp4KkRK58t"
      },
      "source": [
        "SEED = 1\n",
        "\n",
        "random.seed(SEED)\n",
        "np.random.seed(SEED)\n",
        "tf.random.set_seed(SEED)"
      ],
      "execution_count": null,
      "outputs": []
    },
    {
      "cell_type": "code",
      "metadata": {
        "id": "jpzmgTC_LPhQ"
      },
      "source": [
        "CONFIG = {\n",
        "    'name' : 'Facial Keypoints Detection',\n",
        "    'base_dir' : 'drive/Shared drives/Yoon/Project/Doing/Kaggle/'\n",
        "}"
      ],
      "execution_count": null,
      "outputs": []
    },
    {
      "cell_type": "markdown",
      "metadata": {
        "id": "lxT1IDWvLd7A"
      },
      "source": [
        "## 2. Data"
      ]
    },
    {
      "cell_type": "markdown",
      "metadata": {
        "id": "UXs_UkPWMpNQ"
      },
      "source": [
        "### 2.1. 준비"
      ]
    },
    {
      "cell_type": "code",
      "metadata": {
        "id": "koGaIToMLiL3"
      },
      "source": [
        "data_dir = os.path.join(CONFIG['base_dir'], 'data', f\"{CONFIG['name']}.zip\")\n",
        "!unzip -q \"{data_dir}\""
      ],
      "execution_count": null,
      "outputs": []
    },
    {
      "cell_type": "code",
      "metadata": {
        "id": "pCKXNqEiLxO4"
      },
      "source": [
        "!unzip -q training.zip\n",
        "!unzip -q test.zip"
      ],
      "execution_count": null,
      "outputs": []
    },
    {
      "cell_type": "markdown",
      "metadata": {
        "id": "-7btSpKEMrBn"
      },
      "source": [
        "### 2.2. EDA"
      ]
    },
    {
      "cell_type": "code",
      "metadata": {
        "id": "1X5gQT9oMK8o"
      },
      "source": [
        "train_data = pd.read_csv('training.csv')\n",
        "test_data = pd.read_csv('test.csv')"
      ],
      "execution_count": null,
      "outputs": []
    },
    {
      "cell_type": "code",
      "metadata": {
        "id": "2YDdMaB3MSjA",
        "outputId": "4b7668bb-2808-4ce5-a7ec-a2485a27d2fa",
        "colab": {
          "base_uri": "https://localhost:8080/",
          "height": 1000
        }
      },
      "source": [
        "train_data.head()"
      ],
      "execution_count": null,
      "outputs": [
        {
          "output_type": "execute_result",
          "data": {
            "text/html": [
              "<div>\n",
              "<style scoped>\n",
              "    .dataframe tbody tr th:only-of-type {\n",
              "        vertical-align: middle;\n",
              "    }\n",
              "\n",
              "    .dataframe tbody tr th {\n",
              "        vertical-align: top;\n",
              "    }\n",
              "\n",
              "    .dataframe thead th {\n",
              "        text-align: right;\n",
              "    }\n",
              "</style>\n",
              "<table border=\"1\" class=\"dataframe\">\n",
              "  <thead>\n",
              "    <tr style=\"text-align: right;\">\n",
              "      <th></th>\n",
              "      <th>left_eye_center_x</th>\n",
              "      <th>left_eye_center_y</th>\n",
              "      <th>right_eye_center_x</th>\n",
              "      <th>right_eye_center_y</th>\n",
              "      <th>left_eye_inner_corner_x</th>\n",
              "      <th>left_eye_inner_corner_y</th>\n",
              "      <th>left_eye_outer_corner_x</th>\n",
              "      <th>left_eye_outer_corner_y</th>\n",
              "      <th>right_eye_inner_corner_x</th>\n",
              "      <th>right_eye_inner_corner_y</th>\n",
              "      <th>right_eye_outer_corner_x</th>\n",
              "      <th>right_eye_outer_corner_y</th>\n",
              "      <th>left_eyebrow_inner_end_x</th>\n",
              "      <th>left_eyebrow_inner_end_y</th>\n",
              "      <th>left_eyebrow_outer_end_x</th>\n",
              "      <th>left_eyebrow_outer_end_y</th>\n",
              "      <th>right_eyebrow_inner_end_x</th>\n",
              "      <th>right_eyebrow_inner_end_y</th>\n",
              "      <th>right_eyebrow_outer_end_x</th>\n",
              "      <th>right_eyebrow_outer_end_y</th>\n",
              "      <th>nose_tip_x</th>\n",
              "      <th>nose_tip_y</th>\n",
              "      <th>mouth_left_corner_x</th>\n",
              "      <th>mouth_left_corner_y</th>\n",
              "      <th>mouth_right_corner_x</th>\n",
              "      <th>mouth_right_corner_y</th>\n",
              "      <th>mouth_center_top_lip_x</th>\n",
              "      <th>mouth_center_top_lip_y</th>\n",
              "      <th>mouth_center_bottom_lip_x</th>\n",
              "      <th>mouth_center_bottom_lip_y</th>\n",
              "      <th>Image</th>\n",
              "    </tr>\n",
              "  </thead>\n",
              "  <tbody>\n",
              "    <tr>\n",
              "      <th>0</th>\n",
              "      <td>66.033564</td>\n",
              "      <td>39.002274</td>\n",
              "      <td>30.227008</td>\n",
              "      <td>36.421678</td>\n",
              "      <td>59.582075</td>\n",
              "      <td>39.647423</td>\n",
              "      <td>73.130346</td>\n",
              "      <td>39.969997</td>\n",
              "      <td>36.356571</td>\n",
              "      <td>37.389402</td>\n",
              "      <td>23.452872</td>\n",
              "      <td>37.389402</td>\n",
              "      <td>56.953263</td>\n",
              "      <td>29.033648</td>\n",
              "      <td>80.227128</td>\n",
              "      <td>32.228138</td>\n",
              "      <td>40.227609</td>\n",
              "      <td>29.002322</td>\n",
              "      <td>16.356379</td>\n",
              "      <td>29.647471</td>\n",
              "      <td>44.420571</td>\n",
              "      <td>57.066803</td>\n",
              "      <td>61.195308</td>\n",
              "      <td>79.970165</td>\n",
              "      <td>28.614496</td>\n",
              "      <td>77.388992</td>\n",
              "      <td>43.312602</td>\n",
              "      <td>72.935459</td>\n",
              "      <td>43.130707</td>\n",
              "      <td>84.485774</td>\n",
              "      <td>238 236 237 238 240 240 239 241 241 243 240 23...</td>\n",
              "    </tr>\n",
              "    <tr>\n",
              "      <th>1</th>\n",
              "      <td>64.332936</td>\n",
              "      <td>34.970077</td>\n",
              "      <td>29.949277</td>\n",
              "      <td>33.448715</td>\n",
              "      <td>58.856170</td>\n",
              "      <td>35.274349</td>\n",
              "      <td>70.722723</td>\n",
              "      <td>36.187166</td>\n",
              "      <td>36.034723</td>\n",
              "      <td>34.361532</td>\n",
              "      <td>24.472511</td>\n",
              "      <td>33.144443</td>\n",
              "      <td>53.987404</td>\n",
              "      <td>28.275949</td>\n",
              "      <td>78.634213</td>\n",
              "      <td>30.405923</td>\n",
              "      <td>42.728851</td>\n",
              "      <td>26.146043</td>\n",
              "      <td>16.865362</td>\n",
              "      <td>27.058860</td>\n",
              "      <td>48.206298</td>\n",
              "      <td>55.660936</td>\n",
              "      <td>56.421447</td>\n",
              "      <td>76.352000</td>\n",
              "      <td>35.122383</td>\n",
              "      <td>76.047660</td>\n",
              "      <td>46.684596</td>\n",
              "      <td>70.266553</td>\n",
              "      <td>45.467915</td>\n",
              "      <td>85.480170</td>\n",
              "      <td>219 215 204 196 204 211 212 200 180 168 178 19...</td>\n",
              "    </tr>\n",
              "    <tr>\n",
              "      <th>2</th>\n",
              "      <td>65.057053</td>\n",
              "      <td>34.909642</td>\n",
              "      <td>30.903789</td>\n",
              "      <td>34.909642</td>\n",
              "      <td>59.412000</td>\n",
              "      <td>36.320968</td>\n",
              "      <td>70.984421</td>\n",
              "      <td>36.320968</td>\n",
              "      <td>37.678105</td>\n",
              "      <td>36.320968</td>\n",
              "      <td>24.976421</td>\n",
              "      <td>36.603221</td>\n",
              "      <td>55.742526</td>\n",
              "      <td>27.570947</td>\n",
              "      <td>78.887368</td>\n",
              "      <td>32.651621</td>\n",
              "      <td>42.193895</td>\n",
              "      <td>28.135453</td>\n",
              "      <td>16.791158</td>\n",
              "      <td>32.087116</td>\n",
              "      <td>47.557263</td>\n",
              "      <td>53.538947</td>\n",
              "      <td>60.822947</td>\n",
              "      <td>73.014316</td>\n",
              "      <td>33.726316</td>\n",
              "      <td>72.732000</td>\n",
              "      <td>47.274947</td>\n",
              "      <td>70.191789</td>\n",
              "      <td>47.274947</td>\n",
              "      <td>78.659368</td>\n",
              "      <td>144 142 159 180 188 188 184 180 167 132 84 59 ...</td>\n",
              "    </tr>\n",
              "    <tr>\n",
              "      <th>3</th>\n",
              "      <td>65.225739</td>\n",
              "      <td>37.261774</td>\n",
              "      <td>32.023096</td>\n",
              "      <td>37.261774</td>\n",
              "      <td>60.003339</td>\n",
              "      <td>39.127179</td>\n",
              "      <td>72.314713</td>\n",
              "      <td>38.380967</td>\n",
              "      <td>37.618643</td>\n",
              "      <td>38.754115</td>\n",
              "      <td>25.307270</td>\n",
              "      <td>38.007903</td>\n",
              "      <td>56.433809</td>\n",
              "      <td>30.929864</td>\n",
              "      <td>77.910261</td>\n",
              "      <td>31.665725</td>\n",
              "      <td>41.671513</td>\n",
              "      <td>31.049990</td>\n",
              "      <td>20.458017</td>\n",
              "      <td>29.909343</td>\n",
              "      <td>51.885078</td>\n",
              "      <td>54.166539</td>\n",
              "      <td>65.598887</td>\n",
              "      <td>72.703722</td>\n",
              "      <td>37.245496</td>\n",
              "      <td>74.195478</td>\n",
              "      <td>50.303165</td>\n",
              "      <td>70.091687</td>\n",
              "      <td>51.561183</td>\n",
              "      <td>78.268383</td>\n",
              "      <td>193 192 193 194 194 194 193 192 168 111 50 12 ...</td>\n",
              "    </tr>\n",
              "    <tr>\n",
              "      <th>4</th>\n",
              "      <td>66.725301</td>\n",
              "      <td>39.621261</td>\n",
              "      <td>32.244810</td>\n",
              "      <td>38.042032</td>\n",
              "      <td>58.565890</td>\n",
              "      <td>39.621261</td>\n",
              "      <td>72.515926</td>\n",
              "      <td>39.884466</td>\n",
              "      <td>36.982380</td>\n",
              "      <td>39.094852</td>\n",
              "      <td>22.506110</td>\n",
              "      <td>38.305237</td>\n",
              "      <td>57.249571</td>\n",
              "      <td>30.672177</td>\n",
              "      <td>77.762945</td>\n",
              "      <td>31.737247</td>\n",
              "      <td>38.035436</td>\n",
              "      <td>30.935382</td>\n",
              "      <td>15.925870</td>\n",
              "      <td>30.672177</td>\n",
              "      <td>43.299534</td>\n",
              "      <td>64.889521</td>\n",
              "      <td>60.671411</td>\n",
              "      <td>77.523239</td>\n",
              "      <td>31.191755</td>\n",
              "      <td>76.997301</td>\n",
              "      <td>44.962748</td>\n",
              "      <td>73.707387</td>\n",
              "      <td>44.227141</td>\n",
              "      <td>86.871166</td>\n",
              "      <td>147 148 160 196 215 214 216 217 219 220 206 18...</td>\n",
              "    </tr>\n",
              "  </tbody>\n",
              "</table>\n",
              "</div>"
            ],
            "text/plain": [
              "   left_eye_center_x  ...                                              Image\n",
              "0          66.033564  ...  238 236 237 238 240 240 239 241 241 243 240 23...\n",
              "1          64.332936  ...  219 215 204 196 204 211 212 200 180 168 178 19...\n",
              "2          65.057053  ...  144 142 159 180 188 188 184 180 167 132 84 59 ...\n",
              "3          65.225739  ...  193 192 193 194 194 194 193 192 168 111 50 12 ...\n",
              "4          66.725301  ...  147 148 160 196 215 214 216 217 219 220 206 18...\n",
              "\n",
              "[5 rows x 31 columns]"
            ]
          },
          "metadata": {
            "tags": []
          },
          "execution_count": 23
        }
      ]
    },
    {
      "cell_type": "code",
      "metadata": {
        "id": "MpwknFq-NhnQ",
        "outputId": "890bbd55-aa7b-42cf-e317-2d785ac54541",
        "colab": {
          "base_uri": "https://localhost:8080/",
          "height": 204
        }
      },
      "source": [
        "test_data.head()"
      ],
      "execution_count": null,
      "outputs": [
        {
          "output_type": "execute_result",
          "data": {
            "text/html": [
              "<div>\n",
              "<style scoped>\n",
              "    .dataframe tbody tr th:only-of-type {\n",
              "        vertical-align: middle;\n",
              "    }\n",
              "\n",
              "    .dataframe tbody tr th {\n",
              "        vertical-align: top;\n",
              "    }\n",
              "\n",
              "    .dataframe thead th {\n",
              "        text-align: right;\n",
              "    }\n",
              "</style>\n",
              "<table border=\"1\" class=\"dataframe\">\n",
              "  <thead>\n",
              "    <tr style=\"text-align: right;\">\n",
              "      <th></th>\n",
              "      <th>ImageId</th>\n",
              "      <th>Image</th>\n",
              "    </tr>\n",
              "  </thead>\n",
              "  <tbody>\n",
              "    <tr>\n",
              "      <th>0</th>\n",
              "      <td>1</td>\n",
              "      <td>182 183 182 182 180 180 176 169 156 137 124 10...</td>\n",
              "    </tr>\n",
              "    <tr>\n",
              "      <th>1</th>\n",
              "      <td>2</td>\n",
              "      <td>76 87 81 72 65 59 64 76 69 42 31 38 49 58 58 4...</td>\n",
              "    </tr>\n",
              "    <tr>\n",
              "      <th>2</th>\n",
              "      <td>3</td>\n",
              "      <td>177 176 174 170 169 169 168 166 166 166 161 14...</td>\n",
              "    </tr>\n",
              "    <tr>\n",
              "      <th>3</th>\n",
              "      <td>4</td>\n",
              "      <td>176 174 174 175 174 174 176 176 175 171 165 15...</td>\n",
              "    </tr>\n",
              "    <tr>\n",
              "      <th>4</th>\n",
              "      <td>5</td>\n",
              "      <td>50 47 44 101 144 149 120 58 48 42 35 35 37 39 ...</td>\n",
              "    </tr>\n",
              "  </tbody>\n",
              "</table>\n",
              "</div>"
            ],
            "text/plain": [
              "   ImageId                                              Image\n",
              "0        1  182 183 182 182 180 180 176 169 156 137 124 10...\n",
              "1        2  76 87 81 72 65 59 64 76 69 42 31 38 49 58 58 4...\n",
              "2        3  177 176 174 170 169 169 168 166 166 166 161 14...\n",
              "3        4  176 174 174 175 174 174 176 176 175 171 165 15...\n",
              "4        5  50 47 44 101 144 149 120 58 48 42 35 35 37 39 ..."
            ]
          },
          "metadata": {
            "tags": []
          },
          "execution_count": 24
        }
      ]
    },
    {
      "cell_type": "code",
      "metadata": {
        "id": "E8rbqV_ENEIO",
        "outputId": "c0f9edea-aa53-48bf-f4f4-6455205999f8",
        "colab": {
          "base_uri": "https://localhost:8080/",
          "height": 51
        }
      },
      "source": [
        "print(f'Train data : {len(train_data)}')\n",
        "print(f'Test  data : {len(test_data)}')"
      ],
      "execution_count": null,
      "outputs": [
        {
          "output_type": "stream",
          "text": [
            "Train data : 7049\n",
            "Test  data : 1783\n"
          ],
          "name": "stdout"
        }
      ]
    },
    {
      "cell_type": "code",
      "metadata": {
        "id": "CeUOtd39NFEJ",
        "outputId": "eda1c89b-6ed0-4ca2-a352-4382b2e82546",
        "colab": {
          "base_uri": "https://localhost:8080/",
          "height": 561
        }
      },
      "source": [
        "# 결측값 확인\n",
        "train_data.isnull().mean()"
      ],
      "execution_count": null,
      "outputs": [
        {
          "output_type": "execute_result",
          "data": {
            "text/plain": [
              "left_eye_center_x            0.001419\n",
              "left_eye_center_y            0.001419\n",
              "right_eye_center_x           0.001844\n",
              "right_eye_center_y           0.001844\n",
              "left_eye_inner_corner_x      0.677827\n",
              "left_eye_inner_corner_y      0.677827\n",
              "left_eye_outer_corner_x      0.678394\n",
              "left_eye_outer_corner_y      0.678394\n",
              "right_eye_inner_corner_x     0.678252\n",
              "right_eye_inner_corner_y     0.678252\n",
              "right_eye_outer_corner_x     0.678252\n",
              "right_eye_outer_corner_y     0.678252\n",
              "left_eyebrow_inner_end_x     0.677969\n",
              "left_eyebrow_inner_end_y     0.677969\n",
              "left_eyebrow_outer_end_x     0.684352\n",
              "left_eyebrow_outer_end_y     0.684352\n",
              "right_eyebrow_inner_end_x    0.677969\n",
              "right_eyebrow_inner_end_y    0.677969\n",
              "right_eyebrow_outer_end_x    0.682792\n",
              "right_eyebrow_outer_end_y    0.682792\n",
              "nose_tip_x                   0.000000\n",
              "nose_tip_y                   0.000000\n",
              "mouth_left_corner_x          0.678110\n",
              "mouth_left_corner_y          0.678110\n",
              "mouth_right_corner_x         0.677969\n",
              "mouth_right_corner_y         0.677969\n",
              "mouth_center_top_lip_x       0.677259\n",
              "mouth_center_top_lip_y       0.677259\n",
              "mouth_center_bottom_lip_x    0.004682\n",
              "mouth_center_bottom_lip_y    0.004682\n",
              "Image                        0.000000\n",
              "dtype: float64"
            ]
          },
          "metadata": {
            "tags": []
          },
          "execution_count": 20
        }
      ]
    },
    {
      "cell_type": "markdown",
      "metadata": {
        "id": "8gIBpBu9N4Zd"
      },
      "source": [
        "## 2.3. 전처리"
      ]
    },
    {
      "cell_type": "code",
      "metadata": {
        "id": "UiAAXjGxN6du"
      },
      "source": [
        "def prep_dataframe(dataframe):\n",
        "    X = np.array([prep_image(i) for i in dataframe['Image']])\n",
        "    if len(dataframe.columns) > 2:\n",
        "        y = dataframe.drop('Image', axis=1).values\n",
        "    else:\n",
        "        y = None\n",
        "    return X, y\n",
        "\n",
        "def prep_image(image):\n",
        "    image = image.split(' ')\n",
        "    image = np.array(image, dtype=np.float32)\n",
        "    image = image.reshape((96, 96, 1))\n",
        "    image = image / 255.\n",
        "    return image"
      ],
      "execution_count": null,
      "outputs": []
    },
    {
      "cell_type": "code",
      "metadata": {
        "id": "48u_govWO_Lg"
      },
      "source": [
        "train_data = train_data.fillna(train_data.median())"
      ],
      "execution_count": null,
      "outputs": []
    },
    {
      "cell_type": "code",
      "metadata": {
        "id": "uT5ZtIJdOcqK"
      },
      "source": [
        "X_train, y_train = prep_dataframe(train_data)\n",
        "X_test, _ = prep_dataframe(test_data)"
      ],
      "execution_count": null,
      "outputs": []
    },
    {
      "cell_type": "code",
      "metadata": {
        "id": "gZvPWnedOhiQ",
        "outputId": "e13bb80b-577d-454c-a6fd-45a7836ae936",
        "colab": {
          "base_uri": "https://localhost:8080/",
          "height": 34
        }
      },
      "source": [
        "X_train.shape, y_train.shape, X_test.shape"
      ],
      "execution_count": null,
      "outputs": [
        {
          "output_type": "execute_result",
          "data": {
            "text/plain": [
              "((7049, 96, 96, 1), (7049, 30), (1783, 96, 96, 1))"
            ]
          },
          "metadata": {
            "tags": []
          },
          "execution_count": 36
        }
      ]
    },
    {
      "cell_type": "markdown",
      "metadata": {
        "id": "5s_FAc4hO7ho"
      },
      "source": [
        "## 3. Model"
      ]
    },
    {
      "cell_type": "code",
      "metadata": {
        "id": "3gTjblqnPmEg"
      },
      "source": [
        "def conv_block(x, filters, kernel_size, pooling=True):\n",
        "    x = tf.keras.layers.Conv2D(filters, kernel_size, padding='same')(x)\n",
        "    x = tf.keras.layers.BatchNormalization()(x)\n",
        "    x = tf.keras.layers.LeakyReLU(alpha=0.1)(x)\n",
        "    x = tf.keras.layers.Conv2D(filters, kernel_size, padding='same')(x)\n",
        "    x = tf.keras.layers.BatchNormalization()(x)\n",
        "    x = tf.keras.layers.LeakyReLU(alpha=0.1)(x)\n",
        "    if pooling:\n",
        "        x = tf.keras.layers.MaxPool2D()(x)\n",
        "    return x\n",
        "\n",
        "def build_model(output_dim=30):\n",
        "    inputs = tf.keras.layers.Input((96, 96, 1))\n",
        "    x = conv_block(inputs, 32, 5)\n",
        "    x = conv_block(x, 64, 3)\n",
        "    x = conv_block(x, 128, 3)\n",
        "    x = conv_block(x, 256, 3)\n",
        "    x = conv_block(x, 512, 3, pooling=False)\n",
        "    x = tf.keras.layers.Flatten()(x)\n",
        "    x = tf.keras.layers.Dense(512, activation='relu')(x)\n",
        "    x = tf.keras.layers.Dropout(0.1)(x)\n",
        "    outputs = tf.keras.layers.Dense(output_dim)(x)\n",
        "\n",
        "    model = tf.keras.Model(inputs, outputs)\n",
        "    model.compile(\n",
        "        loss = 'mse',\n",
        "        optimizer = tf.keras.optimizers.Adam(),\n",
        "        metrics = ['mae']\n",
        "    )\n",
        "\n",
        "    return model"
      ],
      "execution_count": null,
      "outputs": []
    },
    {
      "cell_type": "code",
      "metadata": {
        "id": "1hGfROfuQ81y",
        "outputId": "2a7863fc-09bc-42d2-bb68-882a767029cf",
        "colab": {
          "base_uri": "https://localhost:8080/",
          "height": 1000
        }
      },
      "source": [
        "model = build_model()\n",
        "model.summary()"
      ],
      "execution_count": null,
      "outputs": [
        {
          "output_type": "stream",
          "text": [
            "Model: \"functional_1\"\n",
            "_________________________________________________________________\n",
            "Layer (type)                 Output Shape              Param #   \n",
            "=================================================================\n",
            "input_3 (InputLayer)         [(None, 96, 96, 1)]       0         \n",
            "_________________________________________________________________\n",
            "conv2d_9 (Conv2D)            (None, 96, 96, 32)        832       \n",
            "_________________________________________________________________\n",
            "batch_normalization_8 (Batch (None, 96, 96, 32)        128       \n",
            "_________________________________________________________________\n",
            "leaky_re_lu_8 (LeakyReLU)    (None, 96, 96, 32)        0         \n",
            "_________________________________________________________________\n",
            "conv2d_10 (Conv2D)           (None, 96, 96, 32)        25632     \n",
            "_________________________________________________________________\n",
            "batch_normalization_9 (Batch (None, 96, 96, 32)        128       \n",
            "_________________________________________________________________\n",
            "leaky_re_lu_9 (LeakyReLU)    (None, 96, 96, 32)        0         \n",
            "_________________________________________________________________\n",
            "max_pooling2d_4 (MaxPooling2 (None, 48, 48, 32)        0         \n",
            "_________________________________________________________________\n",
            "conv2d_11 (Conv2D)           (None, 48, 48, 64)        18496     \n",
            "_________________________________________________________________\n",
            "batch_normalization_10 (Batc (None, 48, 48, 64)        256       \n",
            "_________________________________________________________________\n",
            "leaky_re_lu_10 (LeakyReLU)   (None, 48, 48, 64)        0         \n",
            "_________________________________________________________________\n",
            "conv2d_12 (Conv2D)           (None, 48, 48, 64)        36928     \n",
            "_________________________________________________________________\n",
            "batch_normalization_11 (Batc (None, 48, 48, 64)        256       \n",
            "_________________________________________________________________\n",
            "leaky_re_lu_11 (LeakyReLU)   (None, 48, 48, 64)        0         \n",
            "_________________________________________________________________\n",
            "max_pooling2d_5 (MaxPooling2 (None, 24, 24, 64)        0         \n",
            "_________________________________________________________________\n",
            "conv2d_13 (Conv2D)           (None, 24, 24, 128)       73856     \n",
            "_________________________________________________________________\n",
            "batch_normalization_12 (Batc (None, 24, 24, 128)       512       \n",
            "_________________________________________________________________\n",
            "leaky_re_lu_12 (LeakyReLU)   (None, 24, 24, 128)       0         \n",
            "_________________________________________________________________\n",
            "conv2d_14 (Conv2D)           (None, 24, 24, 128)       147584    \n",
            "_________________________________________________________________\n",
            "batch_normalization_13 (Batc (None, 24, 24, 128)       512       \n",
            "_________________________________________________________________\n",
            "leaky_re_lu_13 (LeakyReLU)   (None, 24, 24, 128)       0         \n",
            "_________________________________________________________________\n",
            "max_pooling2d_6 (MaxPooling2 (None, 12, 12, 128)       0         \n",
            "_________________________________________________________________\n",
            "conv2d_15 (Conv2D)           (None, 12, 12, 256)       295168    \n",
            "_________________________________________________________________\n",
            "batch_normalization_14 (Batc (None, 12, 12, 256)       1024      \n",
            "_________________________________________________________________\n",
            "leaky_re_lu_14 (LeakyReLU)   (None, 12, 12, 256)       0         \n",
            "_________________________________________________________________\n",
            "conv2d_16 (Conv2D)           (None, 12, 12, 256)       590080    \n",
            "_________________________________________________________________\n",
            "batch_normalization_15 (Batc (None, 12, 12, 256)       1024      \n",
            "_________________________________________________________________\n",
            "leaky_re_lu_15 (LeakyReLU)   (None, 12, 12, 256)       0         \n",
            "_________________________________________________________________\n",
            "max_pooling2d_7 (MaxPooling2 (None, 6, 6, 256)         0         \n",
            "_________________________________________________________________\n",
            "conv2d_17 (Conv2D)           (None, 6, 6, 512)         1180160   \n",
            "_________________________________________________________________\n",
            "batch_normalization_16 (Batc (None, 6, 6, 512)         2048      \n",
            "_________________________________________________________________\n",
            "leaky_re_lu_16 (LeakyReLU)   (None, 6, 6, 512)         0         \n",
            "_________________________________________________________________\n",
            "conv2d_18 (Conv2D)           (None, 6, 6, 512)         2359808   \n",
            "_________________________________________________________________\n",
            "batch_normalization_17 (Batc (None, 6, 6, 512)         2048      \n",
            "_________________________________________________________________\n",
            "leaky_re_lu_17 (LeakyReLU)   (None, 6, 6, 512)         0         \n",
            "_________________________________________________________________\n",
            "flatten (Flatten)            (None, 18432)             0         \n",
            "_________________________________________________________________\n",
            "dense (Dense)                (None, 512)               9437696   \n",
            "_________________________________________________________________\n",
            "dropout (Dropout)            (None, 512)               0         \n",
            "_________________________________________________________________\n",
            "dense_1 (Dense)              (None, 30)                15390     \n",
            "=================================================================\n",
            "Total params: 14,189,566\n",
            "Trainable params: 14,185,598\n",
            "Non-trainable params: 3,968\n",
            "_________________________________________________________________\n"
          ],
          "name": "stdout"
        }
      ]
    },
    {
      "cell_type": "markdown",
      "metadata": {
        "id": "kjks1wF3RDNo"
      },
      "source": [
        "## 4. Train"
      ]
    },
    {
      "cell_type": "code",
      "metadata": {
        "id": "XDcWOaxnRqcs",
        "outputId": "5c35fe82-17ae-4f78-cdce-f91860d12018",
        "colab": {
          "base_uri": "https://localhost:8080/",
          "height": 1000
        }
      },
      "source": [
        "es = tf.keras.callbacks.EarlyStopping(monitor='val_loss', patience=10)\n",
        "mc = tf.keras.callbacks.ModelCheckpoint('model.h5', monitor='val_loss', verbose=1, save_best_only=True, save_weights_only=True) \n",
        "\n",
        "model.fit(\n",
        "    X_train, y_train,\n",
        "    validation_split = 0.1,\n",
        "    batch_size = 128,\n",
        "    epochs = 100,\n",
        "    callbacks = [es, mc]\n",
        ")"
      ],
      "execution_count": null,
      "outputs": [
        {
          "output_type": "stream",
          "text": [
            "Epoch 1/100\n",
            "50/50 [==============================] - ETA: 0s - loss: 143.3499 - mae: 7.5653\n",
            "Epoch 00001: val_loss improved from inf to 277.53790, saving model to model.h5\n",
            "50/50 [==============================] - 6s 123ms/step - loss: 143.3499 - mae: 7.5653 - val_loss: 277.5379 - val_mae: 15.2750\n",
            "Epoch 2/100\n",
            "50/50 [==============================] - ETA: 0s - loss: 26.9980 - mae: 4.0215\n",
            "Epoch 00002: val_loss improved from 277.53790 to 90.73389, saving model to model.h5\n",
            "50/50 [==============================] - 5s 101ms/step - loss: 26.9980 - mae: 4.0215 - val_loss: 90.7339 - val_mae: 8.5491\n",
            "Epoch 3/100\n",
            "50/50 [==============================] - ETA: 0s - loss: 22.2286 - mae: 3.6285\n",
            "Epoch 00003: val_loss did not improve from 90.73389\n",
            "50/50 [==============================] - 5s 97ms/step - loss: 22.2286 - mae: 3.6285 - val_loss: 108.1307 - val_mae: 9.6298\n",
            "Epoch 4/100\n",
            "50/50 [==============================] - ETA: 0s - loss: 18.3800 - mae: 3.2774\n",
            "Epoch 00004: val_loss improved from 90.73389 to 36.33375, saving model to model.h5\n",
            "50/50 [==============================] - 5s 100ms/step - loss: 18.3800 - mae: 3.2774 - val_loss: 36.3337 - val_mae: 5.2275\n",
            "Epoch 5/100\n",
            "50/50 [==============================] - ETA: 0s - loss: 17.5768 - mae: 3.2089\n",
            "Epoch 00005: val_loss improved from 36.33375 to 11.62592, saving model to model.h5\n",
            "50/50 [==============================] - 5s 101ms/step - loss: 17.5768 - mae: 3.2089 - val_loss: 11.6259 - val_mae: 2.4335\n",
            "Epoch 6/100\n",
            "50/50 [==============================] - ETA: 0s - loss: 14.6779 - mae: 2.9121\n",
            "Epoch 00006: val_loss did not improve from 11.62592\n",
            "50/50 [==============================] - 5s 98ms/step - loss: 14.6779 - mae: 2.9121 - val_loss: 36.5155 - val_mae: 5.1569\n",
            "Epoch 7/100\n",
            "50/50 [==============================] - ETA: 0s - loss: 14.2272 - mae: 2.8655\n",
            "Epoch 00007: val_loss did not improve from 11.62592\n",
            "50/50 [==============================] - 5s 97ms/step - loss: 14.2272 - mae: 2.8655 - val_loss: 13.7575 - val_mae: 2.8509\n",
            "Epoch 8/100\n",
            "50/50 [==============================] - ETA: 0s - loss: 14.4809 - mae: 2.8923\n",
            "Epoch 00008: val_loss did not improve from 11.62592\n",
            "50/50 [==============================] - 5s 98ms/step - loss: 14.4809 - mae: 2.8923 - val_loss: 15.6195 - val_mae: 3.1522\n",
            "Epoch 9/100\n",
            "50/50 [==============================] - ETA: 0s - loss: 13.8883 - mae: 2.8330\n",
            "Epoch 00009: val_loss improved from 11.62592 to 5.89293, saving model to model.h5\n",
            "50/50 [==============================] - 5s 101ms/step - loss: 13.8883 - mae: 2.8330 - val_loss: 5.8929 - val_mae: 1.6606\n",
            "Epoch 10/100\n",
            "50/50 [==============================] - ETA: 0s - loss: 14.3280 - mae: 2.8776\n",
            "Epoch 00010: val_loss did not improve from 5.89293\n",
            "50/50 [==============================] - 5s 98ms/step - loss: 14.3280 - mae: 2.8776 - val_loss: 6.5700 - val_mae: 1.6895\n",
            "Epoch 11/100\n",
            "50/50 [==============================] - ETA: 0s - loss: 15.3410 - mae: 2.9933\n",
            "Epoch 00011: val_loss improved from 5.89293 to 5.36494, saving model to model.h5\n",
            "50/50 [==============================] - 5s 100ms/step - loss: 15.3410 - mae: 2.9933 - val_loss: 5.3649 - val_mae: 1.6087\n",
            "Epoch 12/100\n",
            "50/50 [==============================] - ETA: 0s - loss: 11.3734 - mae: 2.5383\n",
            "Epoch 00012: val_loss did not improve from 5.36494\n",
            "50/50 [==============================] - 5s 98ms/step - loss: 11.3734 - mae: 2.5383 - val_loss: 6.7953 - val_mae: 1.8747\n",
            "Epoch 13/100\n",
            "50/50 [==============================] - ETA: 0s - loss: 10.2814 - mae: 2.3993\n",
            "Epoch 00013: val_loss did not improve from 5.36494\n",
            "50/50 [==============================] - 5s 97ms/step - loss: 10.2814 - mae: 2.3993 - val_loss: 17.1325 - val_mae: 3.4906\n",
            "Epoch 14/100\n",
            "50/50 [==============================] - ETA: 0s - loss: 10.9861 - mae: 2.5005\n",
            "Epoch 00014: val_loss did not improve from 5.36494\n",
            "50/50 [==============================] - 5s 98ms/step - loss: 10.9861 - mae: 2.5005 - val_loss: 6.0290 - val_mae: 1.6552\n",
            "Epoch 15/100\n",
            "50/50 [==============================] - ETA: 0s - loss: 9.8910 - mae: 2.3625\n",
            "Epoch 00015: val_loss did not improve from 5.36494\n",
            "50/50 [==============================] - 5s 97ms/step - loss: 9.8910 - mae: 2.3625 - val_loss: 7.0162 - val_mae: 1.8054\n",
            "Epoch 16/100\n",
            "50/50 [==============================] - ETA: 0s - loss: 10.0027 - mae: 2.3786\n",
            "Epoch 00016: val_loss did not improve from 5.36494\n",
            "50/50 [==============================] - 5s 98ms/step - loss: 10.0027 - mae: 2.3786 - val_loss: 20.3863 - val_mae: 3.8726\n",
            "Epoch 17/100\n",
            "50/50 [==============================] - ETA: 0s - loss: 10.7871 - mae: 2.4704\n",
            "Epoch 00017: val_loss improved from 5.36494 to 3.49013, saving model to model.h5\n",
            "50/50 [==============================] - 5s 101ms/step - loss: 10.7871 - mae: 2.4704 - val_loss: 3.4901 - val_mae: 1.0247\n",
            "Epoch 18/100\n",
            "50/50 [==============================] - ETA: 0s - loss: 10.6025 - mae: 2.4417\n",
            "Epoch 00018: val_loss did not improve from 3.49013\n",
            "50/50 [==============================] - 5s 98ms/step - loss: 10.6025 - mae: 2.4417 - val_loss: 3.7258 - val_mae: 1.1519\n",
            "Epoch 19/100\n",
            "50/50 [==============================] - ETA: 0s - loss: 9.3532 - mae: 2.2842\n",
            "Epoch 00019: val_loss improved from 3.49013 to 3.26826, saving model to model.h5\n",
            "50/50 [==============================] - 5s 101ms/step - loss: 9.3532 - mae: 2.2842 - val_loss: 3.2683 - val_mae: 0.9708\n",
            "Epoch 20/100\n",
            "50/50 [==============================] - ETA: 0s - loss: 8.6065 - mae: 2.1881\n",
            "Epoch 00020: val_loss did not improve from 3.26826\n",
            "50/50 [==============================] - 5s 98ms/step - loss: 8.6065 - mae: 2.1881 - val_loss: 17.8731 - val_mae: 3.6450\n",
            "Epoch 21/100\n",
            "50/50 [==============================] - ETA: 0s - loss: 9.9312 - mae: 2.3701\n",
            "Epoch 00021: val_loss did not improve from 3.26826\n",
            "50/50 [==============================] - 5s 98ms/step - loss: 9.9312 - mae: 2.3701 - val_loss: 11.5026 - val_mae: 2.6936\n",
            "Epoch 22/100\n",
            "50/50 [==============================] - ETA: 0s - loss: 8.1375 - mae: 2.1238\n",
            "Epoch 00022: val_loss did not improve from 3.26826\n",
            "50/50 [==============================] - 5s 99ms/step - loss: 8.1375 - mae: 2.1238 - val_loss: 3.2930 - val_mae: 0.9953\n",
            "Epoch 23/100\n",
            "50/50 [==============================] - ETA: 0s - loss: 8.1309 - mae: 2.1273\n",
            "Epoch 00023: val_loss did not improve from 3.26826\n",
            "50/50 [==============================] - 5s 97ms/step - loss: 8.1309 - mae: 2.1273 - val_loss: 8.5024 - val_mae: 2.1928\n",
            "Epoch 24/100\n",
            "50/50 [==============================] - ETA: 0s - loss: 8.8620 - mae: 2.2402\n",
            "Epoch 00024: val_loss did not improve from 3.26826\n",
            "50/50 [==============================] - 5s 98ms/step - loss: 8.8620 - mae: 2.2402 - val_loss: 4.0939 - val_mae: 1.2952\n",
            "Epoch 25/100\n",
            "50/50 [==============================] - ETA: 0s - loss: 8.2365 - mae: 2.1555\n",
            "Epoch 00025: val_loss did not improve from 3.26826\n",
            "50/50 [==============================] - 5s 98ms/step - loss: 8.2365 - mae: 2.1555 - val_loss: 24.7076 - val_mae: 4.3257\n",
            "Epoch 26/100\n",
            "50/50 [==============================] - ETA: 0s - loss: 8.1941 - mae: 2.1534\n",
            "Epoch 00026: val_loss did not improve from 3.26826\n",
            "50/50 [==============================] - 5s 98ms/step - loss: 8.1941 - mae: 2.1534 - val_loss: 11.5968 - val_mae: 2.7427\n",
            "Epoch 27/100\n",
            "50/50 [==============================] - ETA: 0s - loss: 7.9766 - mae: 2.1180\n",
            "Epoch 00027: val_loss did not improve from 3.26826\n",
            "50/50 [==============================] - 5s 98ms/step - loss: 7.9766 - mae: 2.1180 - val_loss: 4.1211 - val_mae: 1.2114\n",
            "Epoch 28/100\n",
            "50/50 [==============================] - ETA: 0s - loss: 7.9609 - mae: 2.1157\n",
            "Epoch 00028: val_loss did not improve from 3.26826\n",
            "50/50 [==============================] - 5s 98ms/step - loss: 7.9609 - mae: 2.1157 - val_loss: 7.0026 - val_mae: 1.9793\n",
            "Epoch 29/100\n",
            "50/50 [==============================] - ETA: 0s - loss: 6.9356 - mae: 1.9633\n",
            "Epoch 00029: val_loss did not improve from 3.26826\n",
            "50/50 [==============================] - 5s 99ms/step - loss: 6.9356 - mae: 1.9633 - val_loss: 8.3898 - val_mae: 2.3531\n"
          ],
          "name": "stdout"
        },
        {
          "output_type": "execute_result",
          "data": {
            "text/plain": [
              "<tensorflow.python.keras.callbacks.History at 0x7fcb000787b8>"
            ]
          },
          "metadata": {
            "tags": []
          },
          "execution_count": 45
        }
      ]
    },
    {
      "cell_type": "markdown",
      "metadata": {
        "id": "ytngUKlkSNJq"
      },
      "source": [
        "## 5. Test"
      ]
    },
    {
      "cell_type": "code",
      "metadata": {
        "id": "JIXr0WFHTOzw"
      },
      "source": [
        "submission = pd.read_csv('SampleSubmission.csv')\n",
        "id_table = pd.read_csv('IdLookupTable.csv')"
      ],
      "execution_count": null,
      "outputs": []
    },
    {
      "cell_type": "code",
      "metadata": {
        "id": "q_aHX5J3TE0I"
      },
      "source": [
        "model.load_weights('model.h5')"
      ],
      "execution_count": null,
      "outputs": []
    },
    {
      "cell_type": "code",
      "metadata": {
        "id": "Jg24o-ZsTIOR"
      },
      "source": [
        "pred = model.predict(X_test)"
      ],
      "execution_count": null,
      "outputs": []
    },
    {
      "cell_type": "code",
      "metadata": {
        "id": "GBuiPz5eUeiw"
      },
      "source": [
        "image_id = list(id_table['ImageId'] - 1)\n",
        "feature_name = list(id_table['FeatureName'])\n",
        "feature_id = [feature_name.index(i) for i in feature_name]"
      ],
      "execution_count": null,
      "outputs": []
    },
    {
      "cell_type": "code",
      "metadata": {
        "id": "vrqX2AnqUtWR"
      },
      "source": [
        "location = [pred[i,j] for i,j in zip(image_id, feature_id)]\n",
        "submission['Location'] = location"
      ],
      "execution_count": null,
      "outputs": []
    },
    {
      "cell_type": "code",
      "metadata": {
        "id": "KI8HkGXEVQYC",
        "outputId": "944afafa-aeb7-4795-be63-01aee3563d02",
        "colab": {
          "base_uri": "https://localhost:8080/",
          "height": 204
        }
      },
      "source": [
        "submission.to_csv('submission.csv', index=False)\n",
        "submission.head()"
      ],
      "execution_count": null,
      "outputs": [
        {
          "output_type": "execute_result",
          "data": {
            "text/html": [
              "<div>\n",
              "<style scoped>\n",
              "    .dataframe tbody tr th:only-of-type {\n",
              "        vertical-align: middle;\n",
              "    }\n",
              "\n",
              "    .dataframe tbody tr th {\n",
              "        vertical-align: top;\n",
              "    }\n",
              "\n",
              "    .dataframe thead th {\n",
              "        text-align: right;\n",
              "    }\n",
              "</style>\n",
              "<table border=\"1\" class=\"dataframe\">\n",
              "  <thead>\n",
              "    <tr style=\"text-align: right;\">\n",
              "      <th></th>\n",
              "      <th>RowId</th>\n",
              "      <th>Location</th>\n",
              "    </tr>\n",
              "  </thead>\n",
              "  <tbody>\n",
              "    <tr>\n",
              "      <th>0</th>\n",
              "      <td>1</td>\n",
              "      <td>67.972702</td>\n",
              "    </tr>\n",
              "    <tr>\n",
              "      <th>1</th>\n",
              "      <td>2</td>\n",
              "      <td>36.641808</td>\n",
              "    </tr>\n",
              "    <tr>\n",
              "      <th>2</th>\n",
              "      <td>3</td>\n",
              "      <td>29.384033</td>\n",
              "    </tr>\n",
              "    <tr>\n",
              "      <th>3</th>\n",
              "      <td>4</td>\n",
              "      <td>35.081280</td>\n",
              "    </tr>\n",
              "    <tr>\n",
              "      <th>4</th>\n",
              "      <td>5</td>\n",
              "      <td>61.670593</td>\n",
              "    </tr>\n",
              "  </tbody>\n",
              "</table>\n",
              "</div>"
            ],
            "text/plain": [
              "   RowId   Location\n",
              "0      1  67.972702\n",
              "1      2  36.641808\n",
              "2      3  29.384033\n",
              "3      4  35.081280\n",
              "4      5  61.670593"
            ]
          },
          "metadata": {
            "tags": []
          },
          "execution_count": 67
        }
      ]
    },
    {
      "cell_type": "markdown",
      "metadata": {
        "id": "zp_ca1mVTt1Y"
      },
      "source": [
        "## 6. Result\n",
        "* LB Score : 2.70099 (52 / 175)"
      ]
    }
  ]
}