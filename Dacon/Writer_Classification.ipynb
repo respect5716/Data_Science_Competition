{
  "nbformat": 4,
  "nbformat_minor": 0,
  "metadata": {
    "colab": {
      "name": "03_scratch",
      "provenance": [],
      "collapsed_sections": []
    },
    "kernelspec": {
      "name": "python3",
      "display_name": "Python 3"
    },
    "accelerator": "GPU"
  },
  "cells": [
    {
      "cell_type": "markdown",
      "metadata": {
        "id": "RlW6W37X86Ez"
      },
      "source": [
        "# 소설 작가 분류 AI 경진대회"
      ]
    },
    {
      "cell_type": "markdown",
      "metadata": {
        "id": "IGrq7uSZ9Eyf"
      },
      "source": [
        "## 0. Info"
      ]
    },
    {
      "cell_type": "markdown",
      "metadata": {
        "id": "SGfN-A3f9HAF"
      },
      "source": [
        "* Type : Text Classification\n",
        "* URL : https://dacon.io/competitions/official/235670/data/\n",
        "* score\n",
        "    * train (log) :\n",
        "    * val (log) :\n",
        "    * test (lb) :\n"
      ]
    },
    {
      "cell_type": "markdown",
      "metadata": {
        "id": "w3G6s-A39J2u"
      },
      "source": [
        "## 1. Setting"
      ]
    },
    {
      "cell_type": "code",
      "metadata": {
        "id": "a_MfAHle9czN"
      },
      "source": [
        "!pip install -q sentencepiece"
      ],
      "execution_count": null,
      "outputs": []
    },
    {
      "cell_type": "code",
      "metadata": {
        "id": "rnIkaSIh9NWd"
      },
      "source": [
        "import os\n",
        "import random\n",
        "\n",
        "import numpy as np\n",
        "import pandas as pd\n",
        "import matplotlib.pyplot as plt\n",
        "import seaborn as sns\n",
        "\n",
        "import tensorflow as tf\n",
        "import tensorflow_addons as tfa\n",
        "\n",
        "import sentencepiece as spm\n",
        "from sklearn.metrics import confusion_matrix"
      ],
      "execution_count": null,
      "outputs": []
    },
    {
      "cell_type": "code",
      "metadata": {
        "id": "7upAXyja9kT0"
      },
      "source": [
        "SEED = 1\n",
        "\n",
        "random.seed(SEED)\n",
        "np.random.seed(SEED)\n",
        "tf.random.set_seed(SEED)"
      ],
      "execution_count": null,
      "outputs": []
    },
    {
      "cell_type": "code",
      "metadata": {
        "id": "AJgIxKRI9laE"
      },
      "source": [
        "MAX_LENGTH = 128\n",
        "MODEL_DIM = 128\n",
        "DFF = 128\n",
        "NUM_HEAD = 4\n",
        "NUM_LAYER = 4\n",
        "NUM_TOKEN = 10000\n",
        "DROP_RATE = 0.2\n",
        "BATCH_SIZE = 32\n",
        "EPOCH_SIZE = 10\n",
        "BASE_DIR = 'drive/Shared drives/Yoon/Project/Doing/Data Science Competition/Dacon/Writer Classification'"
      ],
      "execution_count": null,
      "outputs": []
    },
    {
      "cell_type": "markdown",
      "metadata": {
        "id": "T2nIpBjU9O71"
      },
      "source": [
        "## 2. Data"
      ]
    },
    {
      "cell_type": "code",
      "metadata": {
        "id": "Aq2m1UWm9_uF"
      },
      "source": [
        "class Dataloader(tf.keras.utils.Sequence):\n",
        "    def __init__(self, data, tokenizer, mode):\n",
        "        self.data = data\n",
        "        self.tokenizer = tokenizer\n",
        "        self.mode = mode\n",
        "\n",
        "        self.on_epoch_end()\n",
        "    \n",
        "    def __len__(self):\n",
        "        return np.ceil(len(self.data) / BATCH_SIZE).astype(np.int32)\n",
        "\n",
        "    def on_epoch_end(self):\n",
        "        if self.mode == 'train':\n",
        "            self.indices = np.random.permutation(len(self.data))\n",
        "        else:\n",
        "            self.indices = np.arange(len(self.data))\n",
        "    \n",
        "    def __getitem__(self, idx):\n",
        "        batch_idx = self.indices[BATCH_SIZE*idx : BATCH_SIZE*(idx+1)]\n",
        "        batch_data = self.data.iloc[batch_idx]\n",
        "        batch_x = batch_data['text']\n",
        "        batch_x = [self.tokenizer.encode(x) for x in batch_x]\n",
        "        batch_x = tf.keras.preprocessing.sequence.pad_sequences(batch_x, maxlen=MAX_LENGTH)\n",
        "        batch_x = batch_x.astype(np.int32)\n",
        "\n",
        "        if self.mode == 'test':\n",
        "            batch_y = None\n",
        "        else:\n",
        "            batch_y = batch_data['author'].values.astype(np.int32)\n",
        "        return batch_x, batch_y"
      ],
      "execution_count": null,
      "outputs": []
    },
    {
      "cell_type": "code",
      "metadata": {
        "id": "eJPfK5tn9jCM"
      },
      "source": [
        "data_path = os.path.join(BASE_DIR, 'data.zip')\n",
        "!unzip -q \"{data_path}\" -d \"data\""
      ],
      "execution_count": null,
      "outputs": []
    },
    {
      "cell_type": "code",
      "metadata": {
        "colab": {
          "base_uri": "https://localhost:8080/",
          "height": 225
        },
        "id": "he0AsWA29oVN",
        "outputId": "37eda9dc-0676-49b2-853c-c475da016853"
      },
      "source": [
        "train_data = pd.read_csv('data/train.csv', index_col=0)\n",
        "train_data.head()"
      ],
      "execution_count": null,
      "outputs": [
        {
          "output_type": "execute_result",
          "data": {
            "text/html": [
              "<div>\n",
              "<style scoped>\n",
              "    .dataframe tbody tr th:only-of-type {\n",
              "        vertical-align: middle;\n",
              "    }\n",
              "\n",
              "    .dataframe tbody tr th {\n",
              "        vertical-align: top;\n",
              "    }\n",
              "\n",
              "    .dataframe thead th {\n",
              "        text-align: right;\n",
              "    }\n",
              "</style>\n",
              "<table border=\"1\" class=\"dataframe\">\n",
              "  <thead>\n",
              "    <tr style=\"text-align: right;\">\n",
              "      <th></th>\n",
              "      <th>text</th>\n",
              "      <th>author</th>\n",
              "    </tr>\n",
              "    <tr>\n",
              "      <th>index</th>\n",
              "      <th></th>\n",
              "      <th></th>\n",
              "    </tr>\n",
              "  </thead>\n",
              "  <tbody>\n",
              "    <tr>\n",
              "      <th>0</th>\n",
              "      <td>He was almost choking. There was so much, so m...</td>\n",
              "      <td>3</td>\n",
              "    </tr>\n",
              "    <tr>\n",
              "      <th>1</th>\n",
              "      <td>“Your sister asked for it, I suppose?”</td>\n",
              "      <td>2</td>\n",
              "    </tr>\n",
              "    <tr>\n",
              "      <th>2</th>\n",
              "      <td>She was engaged one day as she walked, in per...</td>\n",
              "      <td>1</td>\n",
              "    </tr>\n",
              "    <tr>\n",
              "      <th>3</th>\n",
              "      <td>The captain was in the porch, keeping himself ...</td>\n",
              "      <td>4</td>\n",
              "    </tr>\n",
              "    <tr>\n",
              "      <th>4</th>\n",
              "      <td>“Have mercy, gentlemen!” odin flung up his han...</td>\n",
              "      <td>3</td>\n",
              "    </tr>\n",
              "  </tbody>\n",
              "</table>\n",
              "</div>"
            ],
            "text/plain": [
              "                                                    text  author\n",
              "index                                                           \n",
              "0      He was almost choking. There was so much, so m...       3\n",
              "1                 “Your sister asked for it, I suppose?”       2\n",
              "2       She was engaged one day as she walked, in per...       1\n",
              "3      The captain was in the porch, keeping himself ...       4\n",
              "4      “Have mercy, gentlemen!” odin flung up his han...       3"
            ]
          },
          "metadata": {
            "tags": []
          },
          "execution_count": 7
        }
      ]
    },
    {
      "cell_type": "code",
      "metadata": {
        "colab": {
          "base_uri": "https://localhost:8080/",
          "height": 225
        },
        "id": "9jY5kxqHKtaD",
        "outputId": "209fabaa-b0b1-472d-8977-a5eaa8a5d7f5"
      },
      "source": [
        "train_data['len'] = train_data['text'].apply(len)\n",
        "train_data.groupby('author')['len'].agg(['min', 'mean', 'max'])"
      ],
      "execution_count": null,
      "outputs": [
        {
          "output_type": "execute_result",
          "data": {
            "text/html": [
              "<div>\n",
              "<style scoped>\n",
              "    .dataframe tbody tr th:only-of-type {\n",
              "        vertical-align: middle;\n",
              "    }\n",
              "\n",
              "    .dataframe tbody tr th {\n",
              "        vertical-align: top;\n",
              "    }\n",
              "\n",
              "    .dataframe thead th {\n",
              "        text-align: right;\n",
              "    }\n",
              "</style>\n",
              "<table border=\"1\" class=\"dataframe\">\n",
              "  <thead>\n",
              "    <tr style=\"text-align: right;\">\n",
              "      <th></th>\n",
              "      <th>min</th>\n",
              "      <th>mean</th>\n",
              "      <th>max</th>\n",
              "    </tr>\n",
              "    <tr>\n",
              "      <th>author</th>\n",
              "      <th></th>\n",
              "      <th></th>\n",
              "      <th></th>\n",
              "    </tr>\n",
              "  </thead>\n",
              "  <tbody>\n",
              "    <tr>\n",
              "      <th>0</th>\n",
              "      <td>10</td>\n",
              "      <td>200.222463</td>\n",
              "      <td>1993</td>\n",
              "    </tr>\n",
              "    <tr>\n",
              "      <th>1</th>\n",
              "      <td>16</td>\n",
              "      <td>314.373075</td>\n",
              "      <td>2400</td>\n",
              "    </tr>\n",
              "    <tr>\n",
              "      <th>2</th>\n",
              "      <td>10</td>\n",
              "      <td>213.920523</td>\n",
              "      <td>1726</td>\n",
              "    </tr>\n",
              "    <tr>\n",
              "      <th>3</th>\n",
              "      <td>10</td>\n",
              "      <td>224.353024</td>\n",
              "      <td>2500</td>\n",
              "    </tr>\n",
              "    <tr>\n",
              "      <th>4</th>\n",
              "      <td>9</td>\n",
              "      <td>220.964348</td>\n",
              "      <td>1944</td>\n",
              "    </tr>\n",
              "  </tbody>\n",
              "</table>\n",
              "</div>"
            ],
            "text/plain": [
              "        min        mean   max\n",
              "author                       \n",
              "0        10  200.222463  1993\n",
              "1        16  314.373075  2400\n",
              "2        10  213.920523  1726\n",
              "3        10  224.353024  2500\n",
              "4         9  220.964348  1944"
            ]
          },
          "metadata": {
            "tags": []
          },
          "execution_count": 101
        }
      ]
    },
    {
      "cell_type": "code",
      "metadata": {
        "colab": {
          "base_uri": "https://localhost:8080/",
          "height": 35
        },
        "id": "3Hxqi1SWKUBW",
        "outputId": "6d9bc0b8-b8fd-49a7-d032-efb8d3c50204"
      },
      "source": [
        "train_data.loc[train_data['author'] == 3, 'text'].iloc[0]"
      ],
      "execution_count": null,
      "outputs": [
        {
          "output_type": "execute_result",
          "data": {
            "application/vnd.google.colaboratory.intrinsic+json": {
              "type": "string"
            },
            "text/plain": [
              "'“I see: he heard I had money, and came here to marry me!”'"
            ]
          },
          "metadata": {
            "tags": []
          },
          "execution_count": 98
        }
      ]
    },
    {
      "cell_type": "code",
      "metadata": {
        "id": "5Dvhepyo9vVc"
      },
      "source": [
        "with open('corpus.txt', 'w') as f:\n",
        "    for text in train_data['text']:\n",
        "        f.write(text)\n",
        "        f.write('\\n')"
      ],
      "execution_count": null,
      "outputs": []
    },
    {
      "cell_type": "code",
      "metadata": {
        "colab": {
          "base_uri": "https://localhost:8080/",
          "height": 35
        },
        "id": "nOgD2vQo_CiC",
        "outputId": "4c895e55-6805-4acb-ce57-2d1d82e51e78"
      },
      "source": [
        "input_file = 'corpus.txt'\n",
        "pad_id = 0 \n",
        "bos_id = 1\n",
        "eos_id = 2\n",
        "unk_id = 3\n",
        "vocab_size = NUM_TOKEN # vocab 사이즈\n",
        "prefix = 'bpe_tokenizer' # 저장될 tokenizer 모델에 붙는 이름\n",
        "model_type ='bpe'\n",
        "\n",
        "cmd = f'--input={input_file} \\\n",
        "--pad_id={pad_id} \\\n",
        "--bos_id={bos_id} \\\n",
        "--eos_id={eos_id} \\\n",
        "--unk_id={unk_id} \\\n",
        "--vocab_size={vocab_size} \\\n",
        "--model_prefix={prefix} \\\n",
        "--model_type={model_type}'\n",
        "\n",
        "cmd"
      ],
      "execution_count": null,
      "outputs": [
        {
          "output_type": "execute_result",
          "data": {
            "application/vnd.google.colaboratory.intrinsic+json": {
              "type": "string"
            },
            "text/plain": [
              "'--input=corpus.txt --pad_id=0 --bos_id=1 --eos_id=2 --unk_id=3 --vocab_size=10000 --model_prefix=bpe_tokenizer --model_type=bpe'"
            ]
          },
          "metadata": {
            "tags": []
          },
          "execution_count": 126
        }
      ]
    },
    {
      "cell_type": "code",
      "metadata": {
        "id": "gHpHVDGo93-0"
      },
      "source": [
        "spm.SentencePieceTrainer.Train(cmd)"
      ],
      "execution_count": null,
      "outputs": []
    },
    {
      "cell_type": "code",
      "metadata": {
        "colab": {
          "base_uri": "https://localhost:8080/"
        },
        "id": "21cjSxeF94_U",
        "outputId": "aca38c48-cef5-47e6-b288-4544d80b4d27"
      },
      "source": [
        "tokenizer = spm.SentencePieceProcessor()\n",
        "tokenizer.load('bpe_tokenizer.model')"
      ],
      "execution_count": null,
      "outputs": [
        {
          "output_type": "execute_result",
          "data": {
            "text/plain": [
              "True"
            ]
          },
          "metadata": {
            "tags": []
          },
          "execution_count": 128
        }
      ]
    },
    {
      "cell_type": "code",
      "metadata": {
        "id": "NcmGgbD7_52m"
      },
      "source": [
        "split_idx = int(len(train_data) * 0.2)\n",
        "random_idx = np.random.permutation(len(train_data))\n",
        "\n",
        "train_idx = random_idx[split_idx:]\n",
        "val_idx = random_idx[:split_idx]\n",
        "\n",
        "val_data = train_data.iloc[val_idx]\n",
        "train_data = train_data.iloc[train_idx]"
      ],
      "execution_count": null,
      "outputs": []
    },
    {
      "cell_type": "code",
      "metadata": {
        "id": "NxjKqWCyADD1"
      },
      "source": [
        "train_loader = Dataloader(train_data, tokenizer, 'train')\n",
        "val_loader = Dataloader(val_data, tokenizer, 'val')"
      ],
      "execution_count": null,
      "outputs": []
    },
    {
      "cell_type": "code",
      "metadata": {
        "colab": {
          "base_uri": "https://localhost:8080/"
        },
        "id": "MxCDKo3s_621",
        "outputId": "e54a9eeb-2d04-4a76-d934-cfffc95f6e3e"
      },
      "source": [
        "x, y = train_loader.__getitem__(0)\n",
        "x.shape, y.shape"
      ],
      "execution_count": null,
      "outputs": [
        {
          "output_type": "execute_result",
          "data": {
            "text/plain": [
              "((32, 128), (32,))"
            ]
          },
          "metadata": {
            "tags": []
          },
          "execution_count": 130
        }
      ]
    },
    {
      "cell_type": "markdown",
      "metadata": {
        "id": "elnPbAxbAvR-"
      },
      "source": [
        "## 3. Model"
      ]
    },
    {
      "cell_type": "code",
      "metadata": {
        "id": "015DBR5ZAwmd"
      },
      "source": [
        "def create_padding_mask(seq):\n",
        "    seq = tf.cast(tf.math.equal(seq, 0), tf.float32)\n",
        "    return seq[:, tf.newaxis, tf.newaxis, :]  # (batch_size, 1, 1, seq_len)\n",
        "\n",
        "def gelu(x):\n",
        "    cdf = 0.5 * (1.0 + tf.math.erf(x / tf.sqrt(2.0)))\n",
        "    return x * cdf\n",
        "\n",
        "def scaled_dot_product_attention(q, k, v, mask):\n",
        "    matmul_qk = tf.matmul(q, k, transpose_b=True) \n",
        "    dk = tf.cast(tf.shape(k)[-1], tf.float32)\n",
        "    scaled_attention_logits = matmul_qk / tf.math.sqrt(dk)\n",
        "\n",
        "    if mask is not None:\n",
        "        scaled_attention_logits += (mask * -1e9)  \n",
        "\n",
        "    attention_weights = tf.nn.softmax(scaled_attention_logits, axis=-1) \n",
        "    output = tf.matmul(attention_weights, v)  \n",
        "    return output, attention_weights\n",
        "\n",
        "\n",
        "class Embedding(tf.keras.layers.Layer):\n",
        "    def __init__(self, num_token, model_dim, max_len, drop_rate):\n",
        "        super(Embedding, self).__init__()\n",
        "        self.token_embedding = tf.keras.layers.Embedding(num_token, model_dim, mask_zero=False, input_length=max_len)\n",
        "        self.pos_embedding = tf.keras.layers.Embedding(max_len, model_dim, mask_zero=False, input_length=max_len)\n",
        "        self.layernorm = tf.keras.layers.LayerNormalization(epsilon=1e-6)\n",
        "        self.dropout = tf.keras.layers.Dropout(drop_rate)\n",
        "        self.pos = tf.range(0, max_len)\n",
        "    \n",
        "    def call(self, x, training):\n",
        "        token_embedded = self.token_embedding(x)\n",
        "        pos_embedded = self.pos_embedding(self.pos)\n",
        "        pos_embedded = pos_embedded[None,:,:]\n",
        "        embedded = pos_embedded + token_embedded\n",
        "        embedded = self.layernorm(embedded)\n",
        "        embedded = self.dropout(embedded, training=training)\n",
        "        return embedded\n",
        "\n",
        "\n",
        "class MultiHeadAttention(tf.keras.layers.Layer):\n",
        "    def __init__(self, model_dim, num_head):\n",
        "        super(MultiHeadAttention, self).__init__()\n",
        "        self.num_head = num_head\n",
        "        self.model_dim = model_dim\n",
        "        self.depth = model_dim // num_head\n",
        "        assert model_dim % num_head == 0\n",
        "\n",
        "        self.wq = tf.keras.layers.Dense(model_dim)\n",
        "        self.wk = tf.keras.layers.Dense(model_dim)\n",
        "        self.wv = tf.keras.layers.Dense(model_dim)\n",
        "        self.dense = tf.keras.layers.Dense(model_dim)\n",
        "        \n",
        "    def split_heads(self, x, batch_size):\n",
        "        x = tf.reshape(x, (batch_size, -1, self.num_head, self.depth))\n",
        "        return tf.transpose(x, perm=[0, 2, 1, 3])\n",
        "    \n",
        "    def call(self, q, k, v, mask):\n",
        "        batch_size = tf.shape(q)[0]\n",
        "        \n",
        "        q = self.wq(q)  # (batch_size, seq_len, d_model)\n",
        "        k = self.wk(k)  # (batch_size, seq_len, d_model)\n",
        "        v = self.wv(v)  # (batch_size, seq_len, d_model)\n",
        "        \n",
        "        q = self.split_heads(q, batch_size)  # (batch_size, num_heads, seq_len_q, depth)\n",
        "        k = self.split_heads(k, batch_size)  # (batch_size, num_heads, seq_len_k, depth)\n",
        "        v = self.split_heads(v, batch_size)  # (batch_size, num_heads, seq_len_v, depth)\n",
        "        \n",
        "        # scaled_attention.shape == (batch_size, num_heads, seq_len_q, depth)\n",
        "        # attention_weights.shape == (batch_size, num_heads, seq_len_q, seq_len_k)\n",
        "        scaled_attention, attention_weights = scaled_dot_product_attention(q, k, v, mask)\n",
        "        scaled_attention = tf.transpose(scaled_attention, perm=[0, 2, 1, 3])  # (batch_size, seq_len_q, num_heads, depth)\n",
        "        concat_attention = tf.reshape(scaled_attention, (batch_size, -1, self.model_dim))  # (batch_size, seq_len_q, d_model)\n",
        "\n",
        "        output = self.dense(concat_attention)  # (batch_size, seq_len_q, d_model)            \n",
        "        return output, attention_weights\n",
        "\n",
        "\n",
        "class PointWiseFeedForward(tf.keras.layers.Layer):\n",
        "    def __init__(self, model_dim, dff):\n",
        "        super(PointWiseFeedForward, self).__init__()\n",
        "        self.dense1 = tf.keras.layers.Dense(dff)\n",
        "        self.dense2 = tf.keras.layers.Dense(model_dim)\n",
        "    \n",
        "    def call(self, x):\n",
        "        x = self.dense1(x)\n",
        "        x = gelu(x)\n",
        "        x = self.dense2(x)\n",
        "        return x\n",
        "\n",
        "\n",
        "class EncoderLayer(tf.keras.layers.Layer):\n",
        "    def __init__(self, model_dim, num_head, dff, drop_rate):\n",
        "        super(EncoderLayer, self).__init__()\n",
        "\n",
        "        self.mha = MultiHeadAttention(model_dim, num_head)\n",
        "        self.pwff = PointWiseFeedForward(model_dim, dff)\n",
        "        self.layernorm1 = tf.keras.layers.LayerNormalization(epsilon=1e-6)\n",
        "        self.layernorm2 = tf.keras.layers.LayerNormalization(epsilon=1e-6)\n",
        "        self.dropout1 = tf.keras.layers.Dropout(drop_rate)\n",
        "        self.dropout2 = tf.keras.layers.Dropout(drop_rate)\n",
        "        \n",
        "    def call(self, x, mask, training):\n",
        "        attn_output, _ = self.mha(x, x, x, mask)  # (batch_size, input_seq_len, d_model)\n",
        "        attn_output = self.dropout1(attn_output, training=training)\n",
        "        out1 = self.layernorm1(x + attn_output)  # (batch_size, input_seq_len, d_model)\n",
        "        \n",
        "        pwff_output = self.pwff(out1)  # (batch_size, input_seq_len, d_model)\n",
        "        pwff_output = self.dropout2(pwff_output, training=training)\n",
        "        out2 = self.layernorm2(out1 + pwff_output)  # (batch_size, input_seq_len, d_model)\n",
        "        return out2\n",
        "\n",
        "class OutputLayer(tf.keras.layers.Layer):\n",
        "    def __init__(self, model_dim, drop_rate):\n",
        "        super(OutputLayer, self).__init__()\n",
        "        self.pool = tf.keras.layers.GlobalAvgPool1D()\n",
        "        self.dense1 = tf.keras.layers.Dense(model_dim / 2, activation='relu')\n",
        "        self.dense2 = tf.keras.layers.Dense(5, activation='softmax')\n",
        "        self.dropout = tf.keras.layers.Dropout(drop_rate)\n",
        "    \n",
        "    def call(self, x, training):\n",
        "        # x = x[:, 0]\n",
        "        x = self.pool(x)\n",
        "        x = self.dense1(x)\n",
        "        x = self.dropout(x, training)\n",
        "        x = self.dense2(x)\n",
        "        return x\n",
        "\n",
        "class Model(tf.keras.Model):\n",
        "    def __init__(self):\n",
        "        super(Model, self).__init__()\n",
        "        self.embedding = Embedding(NUM_TOKEN, MODEL_DIM, MAX_LENGTH, DROP_RATE)\n",
        "        self.encoder_layers = [EncoderLayer(MODEL_DIM, NUM_HEAD, DFF, DROP_RATE) for _ in range(NUM_LAYER)]\n",
        "        self.output_layer = OutputLayer(MODEL_DIM, DROP_RATE)\n",
        "    \n",
        "    def call(self, x, training):\n",
        "        mask = create_padding_mask(x)\n",
        "        x = self.embedding(x)\n",
        "        for i in range(NUM_LAYER):\n",
        "            x = self.encoder_layers[i](x, mask, training)\n",
        "        x = self.output_layer(x)\n",
        "        return x"
      ],
      "execution_count": null,
      "outputs": []
    },
    {
      "cell_type": "code",
      "metadata": {
        "colab": {
          "base_uri": "https://localhost:8080/"
        },
        "id": "l6p9zPdrCNaT",
        "outputId": "a05cdc04-c85a-4d67-ea0e-e9d8b51749b9"
      },
      "source": [
        "model = Model()\n",
        "_ = model(x)\n",
        "model.summary()"
      ],
      "execution_count": null,
      "outputs": [
        {
          "output_type": "stream",
          "text": [
            "Model: \"model_6\"\n",
            "_________________________________________________________________\n",
            "Layer (type)                 Output Shape              Param #   \n",
            "=================================================================\n",
            "embedding_27 (Embedding)     multiple                  1296640   \n",
            "_________________________________________________________________\n",
            "encoder_layer_36 (EncoderLay multiple                  99584     \n",
            "_________________________________________________________________\n",
            "encoder_layer_37 (EncoderLay multiple                  99584     \n",
            "_________________________________________________________________\n",
            "encoder_layer_38 (EncoderLay multiple                  99584     \n",
            "_________________________________________________________________\n",
            "encoder_layer_39 (EncoderLay multiple                  99584     \n",
            "_________________________________________________________________\n",
            "output_layer_9 (OutputLayer) multiple                  8581      \n",
            "=================================================================\n",
            "Total params: 1,703,557\n",
            "Trainable params: 1,703,557\n",
            "Non-trainable params: 0\n",
            "_________________________________________________________________\n"
          ],
          "name": "stdout"
        }
      ]
    },
    {
      "cell_type": "code",
      "metadata": {
        "id": "21E86gjzDeg2"
      },
      "source": [
        "model.compile(\n",
        "    loss = 'sparse_categorical_crossentropy',\n",
        "    metrics = ['acc'],\n",
        "    optimizer = tf.keras.optimizers.Adam(1e-4)\n",
        ")"
      ],
      "execution_count": null,
      "outputs": []
    },
    {
      "cell_type": "markdown",
      "metadata": {
        "id": "qp2VsllxDQRN"
      },
      "source": [
        "## 4. Train"
      ]
    },
    {
      "cell_type": "code",
      "metadata": {
        "colab": {
          "base_uri": "https://localhost:8080/"
        },
        "id": "sRZGfE9-DSud",
        "outputId": "f3f68f9d-6a79-4f66-e3c0-07246953e6f1"
      },
      "source": [
        "ckpt_callback = tf.keras.callbacks.ModelCheckpoint(\n",
        "    'model.h5', save_best_only=True, save_weights_only=True\n",
        ")\n",
        "\n",
        "hist = model.fit(\n",
        "    train_loader,\n",
        "    validation_data = val_loader,\n",
        "    batch_size = BATCH_SIZE,\n",
        "    epochs = EPOCH_SIZE,\n",
        "    callbacks = [ckpt_callback])"
      ],
      "execution_count": null,
      "outputs": [
        {
          "output_type": "stream",
          "text": [
            "Epoch 1/10\n",
            "1372/1372 [==============================] - 52s 38ms/step - loss: 1.1401 - acc: 0.5470 - val_loss: 0.7999 - val_acc: 0.7021\n",
            "Epoch 2/10\n",
            "1372/1372 [==============================] - 53s 38ms/step - loss: 0.6969 - acc: 0.7465 - val_loss: 0.6439 - val_acc: 0.7677\n",
            "Epoch 3/10\n",
            "1372/1372 [==============================] - 52s 38ms/step - loss: 0.5404 - acc: 0.8067 - val_loss: 0.5924 - val_acc: 0.7926\n",
            "Epoch 4/10\n",
            "1372/1372 [==============================] - 52s 38ms/step - loss: 0.4494 - acc: 0.8397 - val_loss: 0.6176 - val_acc: 0.7933\n",
            "Epoch 5/10\n",
            "1372/1372 [==============================] - 52s 38ms/step - loss: 0.3842 - acc: 0.8624 - val_loss: 0.6294 - val_acc: 0.7959\n",
            "Epoch 6/10\n",
            "1372/1372 [==============================] - 52s 38ms/step - loss: 0.3387 - acc: 0.8810 - val_loss: 0.6345 - val_acc: 0.7964\n",
            "Epoch 7/10\n",
            "1372/1372 [==============================] - 53s 38ms/step - loss: 0.2988 - acc: 0.8964 - val_loss: 0.7063 - val_acc: 0.7924\n",
            "Epoch 8/10\n",
            "1372/1372 [==============================] - 53s 39ms/step - loss: 0.2680 - acc: 0.9055 - val_loss: 0.7480 - val_acc: 0.7933\n",
            "Epoch 9/10\n",
            "1372/1372 [==============================] - 53s 38ms/step - loss: 0.2381 - acc: 0.9167 - val_loss: 0.7927 - val_acc: 0.7949\n",
            "Epoch 10/10\n",
            "1372/1372 [==============================] - 54s 39ms/step - loss: 0.2122 - acc: 0.9258 - val_loss: 0.8401 - val_acc: 0.7956\n"
          ],
          "name": "stdout"
        }
      ]
    },
    {
      "cell_type": "code",
      "metadata": {
        "colab": {
          "base_uri": "https://localhost:8080/",
          "height": 261
        },
        "id": "r9a8m3kbDir9",
        "outputId": "f7726c44-f525-47d7-9fa7-cbc8faf9f3ad"
      },
      "source": [
        "model.load_weights('model.h5')\n",
        "\n",
        "train_true = train_data['author']\n",
        "train_loader = Dataloader(train_data, tokenizer, 'test')\n",
        "train_prob = model.predict(train_loader)\n",
        "train_pred = np.argmax(train_prob, axis=1)\n",
        "train_loss = np.mean(tf.keras.losses.sparse_categorical_crossentropy(train_true, train_prob))\n",
        "train_acc = np.mean(train_true == train_pred)\n",
        "\n",
        "val_true = val_data['author']\n",
        "val_loader = Dataloader(val_data, tokenizer, 'test')\n",
        "val_prob = model.predict(val_loader)\n",
        "val_pred = np.argmax(val_prob, axis=1)\n",
        "val_loss = np.mean(tf.keras.losses.sparse_categorical_crossentropy(val_true, val_prob))\n",
        "val_acc = np.mean(val_true == val_pred)\n",
        "\n",
        "train_cfm = confusion_matrix(train_true, train_pred, normalize='true')\n",
        "val_cfm = confusion_matrix(val_true, val_pred, normalize='true')\n",
        "\n",
        "print(f'train loss : {train_loss:.4f} | val loss : {val_loss:.4f}')\n",
        "print(f'train acc  : {train_acc:.4f}  | val acc  : {val_acc:.4f}')\n",
        "\n",
        "fig, ax = plt.subplots(1, 2, figsize=(7, 3))\n",
        "sns.heatmap(train_cfm, ax=ax[0])\n",
        "sns.heatmap(val_cfm, ax=ax[1])\n",
        "\n",
        "ax[0].set_title('Train Confusion Matrix')\n",
        "ax[1].set_title('Validation Confusion Matrix')\n",
        "plt.show()"
      ],
      "execution_count": null,
      "outputs": [
        {
          "output_type": "stream",
          "text": [
            "train loss : 0.3384 | val loss : 0.5924\n",
            "train acc  : 0.8817  | val acc  : 0.7926\n"
          ],
          "name": "stdout"
        },
        {
          "output_type": "display_data",
          "data": {
            "image/png": "[encoded data removed]",
            "text/plain": [
              "<Figure size 504x216 with 4 Axes>"
            ]
          },
          "metadata": {
            "tags": [],
            "needs_background": "light"
          }
        }
      ]
    },
    {
      "cell_type": "markdown",
      "metadata": {
        "id": "VMSHNVpWDplr"
      },
      "source": [
        "## 5. Test"
      ]
    },
    {
      "cell_type": "code",
      "metadata": {
        "colab": {
          "base_uri": "https://localhost:8080/",
          "height": 195
        },
        "id": "OyIa_Y0qDqRV",
        "outputId": "70d00cab-9d73-49cf-8945-b5770ce90699"
      },
      "source": [
        "test_data = pd.read_csv('data/test_x.csv')\n",
        "test_data.head()"
      ],
      "execution_count": null,
      "outputs": [
        {
          "output_type": "execute_result",
          "data": {
            "text/html": [
              "<div>\n",
              "<style scoped>\n",
              "    .dataframe tbody tr th:only-of-type {\n",
              "        vertical-align: middle;\n",
              "    }\n",
              "\n",
              "    .dataframe tbody tr th {\n",
              "        vertical-align: top;\n",
              "    }\n",
              "\n",
              "    .dataframe thead th {\n",
              "        text-align: right;\n",
              "    }\n",
              "</style>\n",
              "<table border=\"1\" class=\"dataframe\">\n",
              "  <thead>\n",
              "    <tr style=\"text-align: right;\">\n",
              "      <th></th>\n",
              "      <th>index</th>\n",
              "      <th>text</th>\n",
              "    </tr>\n",
              "  </thead>\n",
              "  <tbody>\n",
              "    <tr>\n",
              "      <th>0</th>\n",
              "      <td>0</td>\n",
              "      <td>“Not at all. I think she is one of the most ch...</td>\n",
              "    </tr>\n",
              "    <tr>\n",
              "      <th>1</th>\n",
              "      <td>1</td>\n",
              "      <td>\"No,\" replied he, with sudden consciousness, \"...</td>\n",
              "    </tr>\n",
              "    <tr>\n",
              "      <th>2</th>\n",
              "      <td>2</td>\n",
              "      <td>As the lady had stated her intention of scream...</td>\n",
              "    </tr>\n",
              "    <tr>\n",
              "      <th>3</th>\n",
              "      <td>3</td>\n",
              "      <td>“And then suddenly in the silence I heard a so...</td>\n",
              "    </tr>\n",
              "    <tr>\n",
              "      <th>4</th>\n",
              "      <td>4</td>\n",
              "      <td>His conviction remained unchanged. So far as I...</td>\n",
              "    </tr>\n",
              "  </tbody>\n",
              "</table>\n",
              "</div>"
            ],
            "text/plain": [
              "   index                                               text\n",
              "0      0  “Not at all. I think she is one of the most ch...\n",
              "1      1  \"No,\" replied he, with sudden consciousness, \"...\n",
              "2      2  As the lady had stated her intention of scream...\n",
              "3      3  “And then suddenly in the silence I heard a so...\n",
              "4      4  His conviction remained unchanged. So far as I..."
            ]
          },
          "metadata": {
            "tags": []
          },
          "execution_count": 138
        }
      ]
    },
    {
      "cell_type": "code",
      "metadata": {
        "colab": {
          "base_uri": "https://localhost:8080/",
          "height": 195
        },
        "id": "0Dh-BldPDrmt",
        "outputId": "3edb6bd2-eee3-42a4-82d7-f4a911419cd5"
      },
      "source": [
        "submission = pd.read_csv('data/sample_submission.csv')\n",
        "submission.head()"
      ],
      "execution_count": null,
      "outputs": [
        {
          "output_type": "execute_result",
          "data": {
            "text/html": [
              "<div>\n",
              "<style scoped>\n",
              "    .dataframe tbody tr th:only-of-type {\n",
              "        vertical-align: middle;\n",
              "    }\n",
              "\n",
              "    .dataframe tbody tr th {\n",
              "        vertical-align: top;\n",
              "    }\n",
              "\n",
              "    .dataframe thead th {\n",
              "        text-align: right;\n",
              "    }\n",
              "</style>\n",
              "<table border=\"1\" class=\"dataframe\">\n",
              "  <thead>\n",
              "    <tr style=\"text-align: right;\">\n",
              "      <th></th>\n",
              "      <th>index</th>\n",
              "      <th>0</th>\n",
              "      <th>1</th>\n",
              "      <th>2</th>\n",
              "      <th>3</th>\n",
              "      <th>4</th>\n",
              "    </tr>\n",
              "  </thead>\n",
              "  <tbody>\n",
              "    <tr>\n",
              "      <th>0</th>\n",
              "      <td>0</td>\n",
              "      <td>0</td>\n",
              "      <td>0</td>\n",
              "      <td>0</td>\n",
              "      <td>0</td>\n",
              "      <td>0</td>\n",
              "    </tr>\n",
              "    <tr>\n",
              "      <th>1</th>\n",
              "      <td>1</td>\n",
              "      <td>0</td>\n",
              "      <td>0</td>\n",
              "      <td>0</td>\n",
              "      <td>0</td>\n",
              "      <td>0</td>\n",
              "    </tr>\n",
              "    <tr>\n",
              "      <th>2</th>\n",
              "      <td>2</td>\n",
              "      <td>0</td>\n",
              "      <td>0</td>\n",
              "      <td>0</td>\n",
              "      <td>0</td>\n",
              "      <td>0</td>\n",
              "    </tr>\n",
              "    <tr>\n",
              "      <th>3</th>\n",
              "      <td>3</td>\n",
              "      <td>0</td>\n",
              "      <td>0</td>\n",
              "      <td>0</td>\n",
              "      <td>0</td>\n",
              "      <td>0</td>\n",
              "    </tr>\n",
              "    <tr>\n",
              "      <th>4</th>\n",
              "      <td>4</td>\n",
              "      <td>0</td>\n",
              "      <td>0</td>\n",
              "      <td>0</td>\n",
              "      <td>0</td>\n",
              "      <td>0</td>\n",
              "    </tr>\n",
              "  </tbody>\n",
              "</table>\n",
              "</div>"
            ],
            "text/plain": [
              "   index  0  1  2  3  4\n",
              "0      0  0  0  0  0  0\n",
              "1      1  0  0  0  0  0\n",
              "2      2  0  0  0  0  0\n",
              "3      3  0  0  0  0  0\n",
              "4      4  0  0  0  0  0"
            ]
          },
          "metadata": {
            "tags": []
          },
          "execution_count": 139
        }
      ]
    },
    {
      "cell_type": "code",
      "metadata": {
        "id": "2_UzwZVODscN"
      },
      "source": [
        "test_loader = Dataloader(test_data, tokenizer, 'test')\n",
        "test_pred = model.predict(test_loader)\n",
        "submission[['0', '1', '2', '3', '4']] = test_pred"
      ],
      "execution_count": null,
      "outputs": []
    },
    {
      "cell_type": "code",
      "metadata": {
        "colab": {
          "base_uri": "https://localhost:8080/",
          "height": 195
        },
        "id": "ciEfmGJ0DtY0",
        "outputId": "1dd8394d-0539-4b98-b67d-a58c9636c838"
      },
      "source": [
        "submission.to_csv('submission.csv', index=False)\n",
        "submission.head()"
      ],
      "execution_count": null,
      "outputs": [
        {
          "output_type": "execute_result",
          "data": {
            "text/html": [
              "<div>\n",
              "<style scoped>\n",
              "    .dataframe tbody tr th:only-of-type {\n",
              "        vertical-align: middle;\n",
              "    }\n",
              "\n",
              "    .dataframe tbody tr th {\n",
              "        vertical-align: top;\n",
              "    }\n",
              "\n",
              "    .dataframe thead th {\n",
              "        text-align: right;\n",
              "    }\n",
              "</style>\n",
              "<table border=\"1\" class=\"dataframe\">\n",
              "  <thead>\n",
              "    <tr style=\"text-align: right;\">\n",
              "      <th></th>\n",
              "      <th>index</th>\n",
              "      <th>0</th>\n",
              "      <th>1</th>\n",
              "      <th>2</th>\n",
              "      <th>3</th>\n",
              "      <th>4</th>\n",
              "    </tr>\n",
              "  </thead>\n",
              "  <tbody>\n",
              "    <tr>\n",
              "      <th>0</th>\n",
              "      <td>0</td>\n",
              "      <td>0.010309</td>\n",
              "      <td>0.783180</td>\n",
              "      <td>0.200585</td>\n",
              "      <td>0.005426</td>\n",
              "      <td>0.000500</td>\n",
              "    </tr>\n",
              "    <tr>\n",
              "      <th>1</th>\n",
              "      <td>1</td>\n",
              "      <td>0.001642</td>\n",
              "      <td>0.993249</td>\n",
              "      <td>0.000248</td>\n",
              "      <td>0.004015</td>\n",
              "      <td>0.000847</td>\n",
              "    </tr>\n",
              "    <tr>\n",
              "      <th>2</th>\n",
              "      <td>2</td>\n",
              "      <td>0.998716</td>\n",
              "      <td>0.000881</td>\n",
              "      <td>0.000239</td>\n",
              "      <td>0.000046</td>\n",
              "      <td>0.000119</td>\n",
              "    </tr>\n",
              "    <tr>\n",
              "      <th>3</th>\n",
              "      <td>3</td>\n",
              "      <td>0.005959</td>\n",
              "      <td>0.007133</td>\n",
              "      <td>0.950626</td>\n",
              "      <td>0.000124</td>\n",
              "      <td>0.036159</td>\n",
              "    </tr>\n",
              "    <tr>\n",
              "      <th>4</th>\n",
              "      <td>4</td>\n",
              "      <td>0.995304</td>\n",
              "      <td>0.003235</td>\n",
              "      <td>0.000139</td>\n",
              "      <td>0.000994</td>\n",
              "      <td>0.000328</td>\n",
              "    </tr>\n",
              "  </tbody>\n",
              "</table>\n",
              "</div>"
            ],
            "text/plain": [
              "   index         0         1         2         3         4\n",
              "0      0  0.010309  0.783180  0.200585  0.005426  0.000500\n",
              "1      1  0.001642  0.993249  0.000248  0.004015  0.000847\n",
              "2      2  0.998716  0.000881  0.000239  0.000046  0.000119\n",
              "3      3  0.005959  0.007133  0.950626  0.000124  0.036159\n",
              "4      4  0.995304  0.003235  0.000139  0.000994  0.000328"
            ]
          },
          "metadata": {
            "tags": []
          },
          "execution_count": 141
        }
      ]
    },
    {
      "cell_type": "code",
      "metadata": {
        "id": "gEpVkDYUILXu"
      },
      "source": [
        ""
      ],
      "execution_count": null,
      "outputs": []
    }
  ]
}